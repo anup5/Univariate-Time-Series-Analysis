{
 "cells": [
  {
   "cell_type": "code",
   "execution_count": 157,
   "metadata": {},
   "outputs": [
    {
     "name": "stdout",
     "output_type": "stream",
     "text": [
      "Import Succesfull\n"
     ]
    }
   ],
   "source": [
    "import plotly as py\n",
    "# ^^^ pyforest auto-imports - don't write above this line\n",
    "from __future__ import absolute_import,division,print_function,unicode_literals\n",
    "\n",
    "import seaborn as sns\n",
    "import matplotlib as mpl\n",
    "import matplotlib.pyplot as plt\n",
    "import plotly.express as px\n",
    "import numpy as np\n",
    "import os\n",
    "from datetime import datetime\n",
    "\n",
    "import pandas as pd\n",
    "\n",
    "import statsmodels.formula.api as smf            # statistics and econometrics\n",
    "import statsmodels.tsa.api as smt\n",
    "import statsmodels.api as sm\n",
    "import scipy.stats as scs\n",
    "\n",
    "from download import download\n",
    "\n",
    "from sklearn.metrics import mean_squared_error as mse\n",
    "\n",
    "mpl.rcParams['figure.figsize'] = (8,6)\n",
    "mpl.rcParams['axes.grid'] = False\n",
    "\n",
    "print(\"Import Succesfull\")"
   ]
  },
  {
   "cell_type": "code",
   "execution_count": 158,
   "metadata": {},
   "outputs": [],
   "source": [
    "import os\n",
    "os.chdir(r\"C:\\Users\\eanusau\\Documents\\AI\\Stat\\Projects\\TimeSeries\")"
   ]
  },
  {
   "cell_type": "markdown",
   "metadata": {},
   "source": [
    "    Industrial Production: Electric and gas utilities (IPG2211A2N)\n",
    "    Not Seasonally Adjusted\n",
    "    Frequency:Monthly\n",
    "    https://fred.stlouisfed.org/series/IPG2211A2N\n",
    "    The industrial production (IP) index measures the real output of all relevant establishments located in the United  \n",
    "    States"
   ]
  },
  {
   "cell_type": "code",
   "execution_count": 159,
   "metadata": {},
   "outputs": [
    {
     "data": {
      "text/html": [
       "<div>\n",
       "<style scoped>\n",
       "    .dataframe tbody tr th:only-of-type {\n",
       "        vertical-align: middle;\n",
       "    }\n",
       "\n",
       "    .dataframe tbody tr th {\n",
       "        vertical-align: top;\n",
       "    }\n",
       "\n",
       "    .dataframe thead th {\n",
       "        text-align: right;\n",
       "    }\n",
       "</style>\n",
       "<table border=\"1\" class=\"dataframe\">\n",
       "  <thead>\n",
       "    <tr style=\"text-align: right;\">\n",
       "      <th></th>\n",
       "      <th>DATE</th>\n",
       "      <th>IPG2211A2N</th>\n",
       "    </tr>\n",
       "  </thead>\n",
       "  <tbody>\n",
       "    <tr>\n",
       "      <th>0</th>\n",
       "      <td>1939-01-01</td>\n",
       "      <td>3.3842</td>\n",
       "    </tr>\n",
       "    <tr>\n",
       "      <th>1</th>\n",
       "      <td>1939-02-01</td>\n",
       "      <td>3.4100</td>\n",
       "    </tr>\n",
       "    <tr>\n",
       "      <th>2</th>\n",
       "      <td>1939-03-01</td>\n",
       "      <td>3.4875</td>\n",
       "    </tr>\n",
       "    <tr>\n",
       "      <th>3</th>\n",
       "      <td>1939-04-01</td>\n",
       "      <td>3.5133</td>\n",
       "    </tr>\n",
       "    <tr>\n",
       "      <th>4</th>\n",
       "      <td>1939-05-01</td>\n",
       "      <td>3.5133</td>\n",
       "    </tr>\n",
       "  </tbody>\n",
       "</table>\n",
       "</div>"
      ],
      "text/plain": [
       "         DATE  IPG2211A2N\n",
       "0  1939-01-01      3.3842\n",
       "1  1939-02-01      3.4100\n",
       "2  1939-03-01      3.4875\n",
       "3  1939-04-01      3.5133\n",
       "4  1939-05-01      3.5133"
      ]
     },
     "execution_count": 159,
     "metadata": {},
     "output_type": "execute_result"
    }
   ],
   "source": [
    "data = pd.read_csv('Electric_Production.csv')\n",
    "df = data.copy()\n",
    "df.head()"
   ]
  },
  {
   "cell_type": "code",
   "execution_count": 160,
   "metadata": {},
   "outputs": [],
   "source": [
    "df.columns = ['Date', 'Energy Production']"
   ]
  },
  {
   "cell_type": "code",
   "execution_count": 161,
   "metadata": {},
   "outputs": [
    {
     "data": {
      "text/html": [
       "<div>\n",
       "<style scoped>\n",
       "    .dataframe tbody tr th:only-of-type {\n",
       "        vertical-align: middle;\n",
       "    }\n",
       "\n",
       "    .dataframe tbody tr th {\n",
       "        vertical-align: top;\n",
       "    }\n",
       "\n",
       "    .dataframe thead th {\n",
       "        text-align: right;\n",
       "    }\n",
       "</style>\n",
       "<table border=\"1\" class=\"dataframe\">\n",
       "  <thead>\n",
       "    <tr style=\"text-align: right;\">\n",
       "      <th></th>\n",
       "      <th>Date</th>\n",
       "      <th>Energy Production</th>\n",
       "    </tr>\n",
       "  </thead>\n",
       "  <tbody>\n",
       "    <tr>\n",
       "      <th>0</th>\n",
       "      <td>1939-01-01</td>\n",
       "      <td>3.3842</td>\n",
       "    </tr>\n",
       "    <tr>\n",
       "      <th>1</th>\n",
       "      <td>1939-02-01</td>\n",
       "      <td>3.4100</td>\n",
       "    </tr>\n",
       "    <tr>\n",
       "      <th>2</th>\n",
       "      <td>1939-03-01</td>\n",
       "      <td>3.4875</td>\n",
       "    </tr>\n",
       "    <tr>\n",
       "      <th>3</th>\n",
       "      <td>1939-04-01</td>\n",
       "      <td>3.5133</td>\n",
       "    </tr>\n",
       "    <tr>\n",
       "      <th>4</th>\n",
       "      <td>1939-05-01</td>\n",
       "      <td>3.5133</td>\n",
       "    </tr>\n",
       "    <tr>\n",
       "      <th>...</th>\n",
       "      <td>...</td>\n",
       "      <td>...</td>\n",
       "    </tr>\n",
       "    <tr>\n",
       "      <th>974</th>\n",
       "      <td>2020-03-01</td>\n",
       "      <td>97.8951</td>\n",
       "    </tr>\n",
       "    <tr>\n",
       "      <th>975</th>\n",
       "      <td>2020-04-01</td>\n",
       "      <td>86.3541</td>\n",
       "    </tr>\n",
       "    <tr>\n",
       "      <th>976</th>\n",
       "      <td>2020-05-01</td>\n",
       "      <td>86.9068</td>\n",
       "    </tr>\n",
       "    <tr>\n",
       "      <th>977</th>\n",
       "      <td>2020-06-01</td>\n",
       "      <td>99.5332</td>\n",
       "    </tr>\n",
       "    <tr>\n",
       "      <th>978</th>\n",
       "      <td>2020-07-01</td>\n",
       "      <td>113.3927</td>\n",
       "    </tr>\n",
       "  </tbody>\n",
       "</table>\n",
       "<p>979 rows × 2 columns</p>\n",
       "</div>"
      ],
      "text/plain": [
       "           Date  Energy Production\n",
       "0    1939-01-01             3.3842\n",
       "1    1939-02-01             3.4100\n",
       "2    1939-03-01             3.4875\n",
       "3    1939-04-01             3.5133\n",
       "4    1939-05-01             3.5133\n",
       "..          ...                ...\n",
       "974  2020-03-01            97.8951\n",
       "975  2020-04-01            86.3541\n",
       "976  2020-05-01            86.9068\n",
       "977  2020-06-01            99.5332\n",
       "978  2020-07-01           113.3927\n",
       "\n",
       "[979 rows x 2 columns]"
      ]
     },
     "execution_count": 161,
     "metadata": {},
     "output_type": "execute_result"
    }
   ],
   "source": [
    "df"
   ]
  },
  {
   "cell_type": "code",
   "execution_count": 162,
   "metadata": {},
   "outputs": [
    {
     "data": {
      "text/plain": [
       "<matplotlib.axes._subplots.AxesSubplot at 0x2de151ebb70>"
      ]
     },
     "execution_count": 162,
     "metadata": {},
     "output_type": "execute_result"
    },
    {
     "data": {
      "image/png": "[encoded data removed]",
      "text/plain": [
       "<Figure size 576x432 with 1 Axes>"
      ]
     },
     "metadata": {
      "needs_background": "light"
     },
     "output_type": "display_data"
    }
   ],
   "source": [
    "df['Energy Production'].plot()"
   ]
  },
  {
   "cell_type": "code",
   "execution_count": 163,
   "metadata": {},
   "outputs": [],
   "source": [
    "df['Date']  = df['Date'].astype('datetime64[ns]')"
   ]
  },
  {
   "cell_type": "code",
   "execution_count": 164,
   "metadata": {},
   "outputs": [
    {
     "name": "stdout",
     "output_type": "stream",
     "text": [
      "<class 'pandas.core.frame.DataFrame'>\n",
      "RangeIndex: 979 entries, 0 to 978\n",
      "Data columns (total 2 columns):\n",
      "Date                 979 non-null datetime64[ns]\n",
      "Energy Production    979 non-null float64\n",
      "dtypes: datetime64[ns](1), float64(1)\n",
      "memory usage: 15.4 KB\n"
     ]
    }
   ],
   "source": [
    "df.info()"
   ]
  },
  {
   "cell_type": "code",
   "execution_count": 165,
   "metadata": {},
   "outputs": [
    {
     "data": {
      "application/vnd.plotly.v1+json": {
       "config": {
        "plotlyServerURL": "https://plot.ly"
       },
       "data": [
        {
         "hoverlabel": {
          "namelength": 0
         },
         "hovertemplate": "Date=%{x}<br>Energy Production=%{y}",
         "legendgroup": "",
         "line": {
          "color": "#636efa",
          "dash": "solid"
         },
         "mode": "lines",
         "name": "",
         "showlegend": false,
         "type": "scatter",
         "x": [
          "1939-01-01T00:00:00",
          "1939-02-01T00:00:00",
          "1939-03-01T00:00:00",
          "1939-04-01T00:00:00",
          "1939-05-01T00:00:00",
          "1939-06-01T00:00:00",
          "1939-07-01T00:00:00",
          "1939-08-01T00:00:00",
          "1939-09-01T00:00:00",
          "1939-10-01T00:00:00",
          "1939-11-01T00:00:00",
          "1939-12-01T00:00:00",
          "1940-01-01T00:00:00",
          "1940-02-01T00:00:00",
          "1940-03-01T00:00:00",
          "1940-04-01T00:00:00",
          "1940-05-01T00:00:00",
          "1940-06-01T00:00:00",
          "1940-07-01T00:00:00",
          "1940-08-01T00:00:00",
          "1940-09-01T00:00:00",
          "1940-10-01T00:00:00",
          "1940-11-01T00:00:00",
          "1940-12-01T00:00:00",
          "1941-01-01T00:00:00",
          "1941-02-01T00:00:00",
          "1941-03-01T00:00:00",
          "1941-04-01T00:00:00",
          "1941-05-01T00:00:00",
          "1941-06-01T00:00:00",
          "1941-07-01T00:00:00",
          "1941-08-01T00:00:00",
          "1941-09-01T00:00:00",
          "1941-10-01T00:00:00",
          "1941-11-01T00:00:00",
          "1941-12-01T00:00:00",
          "1942-01-01T00:00:00",
          "1942-02-01T00:00:00",
          "1942-03-01T00:00:00",
          "1942-04-01T00:00:00",
          "1942-05-01T00:00:00",
          "1942-06-01T00:00:00",
          "1942-07-01T00:00:00",
          "1942-08-01T00:00:00",
          "1942-09-01T00:00:00",
          "1942-10-01T00:00:00",
          "1942-11-01T00:00:00",
          "1942-12-01T00:00:00",
          "1943-01-01T00:00:00",
          "1943-02-01T00:00:00",
          "1943-03-01T00:00:00",
          "1943-04-01T00:00:00",
          "1943-05-01T00:00:00",
          "1943-06-01T00:00:00",
          "1943-07-01T00:00:00",
          "1943-08-01T00:00:00",
          "1943-09-01T00:00:00",
          "1943-10-01T00:00:00",
          "1943-11-01T00:00:00",
          "1943-12-01T00:00:00",
          "1944-01-01T00:00:00",
          "1944-02-01T00:00:00",
          "1944-03-01T00:00:00",
          "1944-04-01T00:00:00",
          "1944-05-01T00:00:00",
          "1944-06-01T00:00:00",
          "1944-07-01T00:00:00",
          "1944-08-01T00:00:00",
          "1944-09-01T00:00:00",
          "1944-10-01T00:00:00",
          "1944-11-01T00:00:00",
          "1944-12-01T00:00:00",
          "1945-01-01T00:00:00",
          "1945-02-01T00:00:00",
          "1945-03-01T00:00:00",
          "1945-04-01T00:00:00",
          "1945-05-01T00:00:00",
          "1945-06-01T00:00:00",
          "1945-07-01T00:00:00",
          "1945-08-01T00:00:00",
          "1945-09-01T00:00:00",
          "1945-10-01T00:00:00",
          "1945-11-01T00:00:00",
          "1945-12-01T00:00:00",
          "1946-01-01T00:00:00",
          "1946-02-01T00:00:00",
          "1946-03-01T00:00:00",
          "1946-04-01T00:00:00",
          "1946-05-01T00:00:00",
          "1946-06-01T00:00:00",
          "1946-07-01T00:00:00",
          "1946-08-01T00:00:00",
          "1946-09-01T00:00:00",
          "1946-10-01T00:00:00",
          "1946-11-01T00:00:00",
          "1946-12-01T00:00:00",
          "1947-01-01T00:00:00",
          "1947-02-01T00:00:00",
          "1947-03-01T00:00:00",
          "1947-04-01T00:00:00",
          "1947-05-01T00:00:00",
          "1947-06-01T00:00:00",
          "1947-07-01T00:00:00",
          "1947-08-01T00:00:00",
          "1947-09-01T00:00:00",
          "1947-10-01T00:00:00",
          "1947-11-01T00:00:00",
          "1947-12-01T00:00:00",
          "1948-01-01T00:00:00",
          "1948-02-01T00:00:00",
          "1948-03-01T00:00:00",
          "1948-04-01T00:00:00",
          "1948-05-01T00:00:00",
          "1948-06-01T00:00:00",
          "1948-07-01T00:00:00",
          "1948-08-01T00:00:00",
          "1948-09-01T00:00:00",
          "1948-10-01T00:00:00",
          "1948-11-01T00:00:00",
          "1948-12-01T00:00:00",
          "1949-01-01T00:00:00",
          "1949-02-01T00:00:00",
          "1949-03-01T00:00:00",
          "1949-04-01T00:00:00",
          "1949-05-01T00:00:00",
          "1949-06-01T00:00:00",
          "1949-07-01T00:00:00",
          "1949-08-01T00:00:00",
          "1949-09-01T00:00:00",
          "1949-10-01T00:00:00",
          "1949-11-01T00:00:00",
          "1949-12-01T00:00:00",
          "1950-01-01T00:00:00",
          "1950-02-01T00:00:00",
          "1950-03-01T00:00:00",
          "1950-04-01T00:00:00",
          "1950-05-01T00:00:00",
          "1950-06-01T00:00:00",
          "1950-07-01T00:00:00",
          "1950-08-01T00:00:00",
          "1950-09-01T00:00:00",
          "1950-10-01T00:00:00",
          "1950-11-01T00:00:00",
          "1950-12-01T00:00:00",
          "1951-01-01T00:00:00",
          "1951-02-01T00:00:00",
          "1951-03-01T00:00:00",
          "1951-04-01T00:00:00",
          "1951-05-01T00:00:00",
          "1951-06-01T00:00:00",
          "1951-07-01T00:00:00",
          "1951-08-01T00:00:00",
          "1951-09-01T00:00:00",
          "1951-10-01T00:00:00",
          "1951-11-01T00:00:00",
          "1951-12-01T00:00:00",
          "1952-01-01T00:00:00",
          "1952-02-01T00:00:00",
          "1952-03-01T00:00:00",
          "1952-04-01T00:00:00",
          "1952-05-01T00:00:00",
          "1952-06-01T00:00:00",
          "1952-07-01T00:00:00",
          "1952-08-01T00:00:00",
          "1952-09-01T00:00:00",
          "1952-10-01T00:00:00",
          "1952-11-01T00:00:00",
          "1952-12-01T00:00:00",
          "1953-01-01T00:00:00",
          "1953-02-01T00:00:00",
          "1953-03-01T00:00:00",
          "1953-04-01T00:00:00",
          "1953-05-01T00:00:00",
          "1953-06-01T00:00:00",
          "1953-07-01T00:00:00",
          "1953-08-01T00:00:00",
          "1953-09-01T00:00:00",
          "1953-10-01T00:00:00",
          "1953-11-01T00:00:00",
          "1953-12-01T00:00:00",
          "1954-01-01T00:00:00",
          "1954-02-01T00:00:00",
          "1954-03-01T00:00:00",
          "1954-04-01T00:00:00",
          "1954-05-01T00:00:00",
          "1954-06-01T00:00:00",
          "1954-07-01T00:00:00",
          "1954-08-01T00:00:00",
          "1954-09-01T00:00:00",
          "1954-10-01T00:00:00",
          "1954-11-01T00:00:00",
          "1954-12-01T00:00:00",
          "1955-01-01T00:00:00",
          "1955-02-01T00:00:00",
          "1955-03-01T00:00:00",
          "1955-04-01T00:00:00",
          "1955-05-01T00:00:00",
          "1955-06-01T00:00:00",
          "1955-07-01T00:00:00",
          "1955-08-01T00:00:00",
          "1955-09-01T00:00:00",
          "1955-10-01T00:00:00",
          "1955-11-01T00:00:00",
          "1955-12-01T00:00:00",
          "1956-01-01T00:00:00",
          "1956-02-01T00:00:00",
          "1956-03-01T00:00:00",
          "1956-04-01T00:00:00",
          "1956-05-01T00:00:00",
          "1956-06-01T00:00:00",
          "1956-07-01T00:00:00",
          "1956-08-01T00:00:00",
          "1956-09-01T00:00:00",
          "1956-10-01T00:00:00",
          "1956-11-01T00:00:00",
          "1956-12-01T00:00:00",
          "1957-01-01T00:00:00",
          "1957-02-01T00:00:00",
          "1957-03-01T00:00:00",
          "1957-04-01T00:00:00",
          "1957-05-01T00:00:00",
          "1957-06-01T00:00:00",
          "1957-07-01T00:00:00",
          "1957-08-01T00:00:00",
          "1957-09-01T00:00:00",
          "1957-10-01T00:00:00",
          "1957-11-01T00:00:00",
          "1957-12-01T00:00:00",
          "1958-01-01T00:00:00",
          "1958-02-01T00:00:00",
          "1958-03-01T00:00:00",
          "1958-04-01T00:00:00",
          "1958-05-01T00:00:00",
          "1958-06-01T00:00:00",
          "1958-07-01T00:00:00",
          "1958-08-01T00:00:00",
          "1958-09-01T00:00:00",
          "1958-10-01T00:00:00",
          "1958-11-01T00:00:00",
          "1958-12-01T00:00:00",
          "1959-01-01T00:00:00",
          "1959-02-01T00:00:00",
          "1959-03-01T00:00:00",
          "1959-04-01T00:00:00",
          "1959-05-01T00:00:00",
          "1959-06-01T00:00:00",
          "1959-07-01T00:00:00",
          "1959-08-01T00:00:00",
          "1959-09-01T00:00:00",
          "1959-10-01T00:00:00",
          "1959-11-01T00:00:00",
          "1959-12-01T00:00:00",
          "1960-01-01T00:00:00",
          "1960-02-01T00:00:00",
          "1960-03-01T00:00:00",
          "1960-04-01T00:00:00",
          "1960-05-01T00:00:00",
          "1960-06-01T00:00:00",
          "1960-07-01T00:00:00",
          "1960-08-01T00:00:00",
          "1960-09-01T00:00:00",
          "1960-10-01T00:00:00",
          "1960-11-01T00:00:00",
          "1960-12-01T00:00:00",
          "1961-01-01T00:00:00",
          "1961-02-01T00:00:00",
          "1961-03-01T00:00:00",
          "1961-04-01T00:00:00",
          "1961-05-01T00:00:00",
          "1961-06-01T00:00:00",
          "1961-07-01T00:00:00",
          "1961-08-01T00:00:00",
          "1961-09-01T00:00:00",
          "1961-10-01T00:00:00",
          "1961-11-01T00:00:00",
          "1961-12-01T00:00:00",
          "1962-01-01T00:00:00",
          "1962-02-01T00:00:00",
          "1962-03-01T00:00:00",
          "1962-04-01T00:00:00",
          "1962-05-01T00:00:00",
          "1962-06-01T00:00:00",
          "1962-07-01T00:00:00",
          "1962-08-01T00:00:00",
          "1962-09-01T00:00:00",
          "1962-10-01T00:00:00",
          "1962-11-01T00:00:00",
          "1962-12-01T00:00:00",
          "1963-01-01T00:00:00",
          "1963-02-01T00:00:00",
          "1963-03-01T00:00:00",
          "1963-04-01T00:00:00",
          "1963-05-01T00:00:00",
          "1963-06-01T00:00:00",
          "1963-07-01T00:00:00",
          "1963-08-01T00:00:00",
          "1963-09-01T00:00:00",
          "1963-10-01T00:00:00",
          "1963-11-01T00:00:00",
          "1963-12-01T00:00:00",
          "1964-01-01T00:00:00",
          "1964-02-01T00:00:00",
          "1964-03-01T00:00:00",
          "1964-04-01T00:00:00",
          "1964-05-01T00:00:00",
          "1964-06-01T00:00:00",
          "1964-07-01T00:00:00",
          "1964-08-01T00:00:00",
          "1964-09-01T00:00:00",
          "1964-10-01T00:00:00",
          "1964-11-01T00:00:00",
          "1964-12-01T00:00:00",
          "1965-01-01T00:00:00",
          "1965-02-01T00:00:00",
          "1965-03-01T00:00:00",
          "1965-04-01T00:00:00",
          "1965-05-01T00:00:00",
          "1965-06-01T00:00:00",
          "1965-07-01T00:00:00",
          "1965-08-01T00:00:00",
          "1965-09-01T00:00:00",
          "1965-10-01T00:00:00",
          "1965-11-01T00:00:00",
          "1965-12-01T00:00:00",
          "1966-01-01T00:00:00",
          "1966-02-01T00:00:00",
          "1966-03-01T00:00:00",
          "1966-04-01T00:00:00",
          "1966-05-01T00:00:00",
          "1966-06-01T00:00:00",
          "1966-07-01T00:00:00",
          "1966-08-01T00:00:00",
          "1966-09-01T00:00:00",
          "1966-10-01T00:00:00",
          "1966-11-01T00:00:00",
          "1966-12-01T00:00:00",
          "1967-01-01T00:00:00",
          "1967-02-01T00:00:00",
          "1967-03-01T00:00:00",
          "1967-04-01T00:00:00",
          "1967-05-01T00:00:00",
          "1967-06-01T00:00:00",
          "1967-07-01T00:00:00",
          "1967-08-01T00:00:00",
          "1967-09-01T00:00:00",
          "1967-10-01T00:00:00",
          "1967-11-01T00:00:00",
          "1967-12-01T00:00:00",
          "1968-01-01T00:00:00",
          "1968-02-01T00:00:00",
          "1968-03-01T00:00:00",
          "1968-04-01T00:00:00",
          "1968-05-01T00:00:00",
          "1968-06-01T00:00:00",
          "1968-07-01T00:00:00",
          "1968-08-01T00:00:00",
          "1968-09-01T00:00:00",
          "1968-10-01T00:00:00",
          "1968-11-01T00:00:00",
          "1968-12-01T00:00:00",
          "1969-01-01T00:00:00",
          "1969-02-01T00:00:00",
          "1969-03-01T00:00:00",
          "1969-04-01T00:00:00",
          "1969-05-01T00:00:00",
          "1969-06-01T00:00:00",
          "1969-07-01T00:00:00",
          "1969-08-01T00:00:00",
          "1969-09-01T00:00:00",
          "1969-10-01T00:00:00",
          "1969-11-01T00:00:00",
          "1969-12-01T00:00:00",
          "1970-01-01T00:00:00",
          "1970-02-01T00:00:00",
          "1970-03-01T00:00:00",
          "1970-04-01T00:00:00",
          "1970-05-01T00:00:00",
          "1970-06-01T00:00:00",
          "1970-07-01T00:00:00",
          "1970-08-01T00:00:00",
          "1970-09-01T00:00:00",
          "1970-10-01T00:00:00",
          "1970-11-01T00:00:00",
          "1970-12-01T00:00:00",
          "1971-01-01T00:00:00",
          "1971-02-01T00:00:00",
          "1971-03-01T00:00:00",
          "1971-04-01T00:00:00",
          "1971-05-01T00:00:00",
          "1971-06-01T00:00:00",
          "1971-07-01T00:00:00",
          "1971-08-01T00:00:00",
          "1971-09-01T00:00:00",
          "1971-10-01T00:00:00",
          "1971-11-01T00:00:00",
          "1971-12-01T00:00:00",
          "1972-01-01T00:00:00",
          "1972-02-01T00:00:00",
          "1972-03-01T00:00:00",
          "1972-04-01T00:00:00",
          "1972-05-01T00:00:00",
          "1972-06-01T00:00:00",
          "1972-07-01T00:00:00",
          "1972-08-01T00:00:00",
          "1972-09-01T00:00:00",
          "1972-10-01T00:00:00",
          "1972-11-01T00:00:00",
          "1972-12-01T00:00:00",
          "1973-01-01T00:00:00",
          "1973-02-01T00:00:00",
          "1973-03-01T00:00:00",
          "1973-04-01T00:00:00",
          "1973-05-01T00:00:00",
          "1973-06-01T00:00:00",
          "1973-07-01T00:00:00",
          "1973-08-01T00:00:00",
          "1973-09-01T00:00:00",
          "1973-10-01T00:00:00",
          "1973-11-01T00:00:00",
          "1973-12-01T00:00:00",
          "1974-01-01T00:00:00",
          "1974-02-01T00:00:00",
          "1974-03-01T00:00:00",
          "1974-04-01T00:00:00",
          "1974-05-01T00:00:00",
          "1974-06-01T00:00:00",
          "1974-07-01T00:00:00",
          "1974-08-01T00:00:00",
          "1974-09-01T00:00:00",
          "1974-10-01T00:00:00",
          "1974-11-01T00:00:00",
          "1974-12-01T00:00:00",
          "1975-01-01T00:00:00",
          "1975-02-01T00:00:00",
          "1975-03-01T00:00:00",
          "1975-04-01T00:00:00",
          "1975-05-01T00:00:00",
          "1975-06-01T00:00:00",
          "1975-07-01T00:00:00",
          "1975-08-01T00:00:00",
          "1975-09-01T00:00:00",
          "1975-10-01T00:00:00",
          "1975-11-01T00:00:00",
          "1975-12-01T00:00:00",
          "1976-01-01T00:00:00",
          "1976-02-01T00:00:00",
          "1976-03-01T00:00:00",
          "1976-04-01T00:00:00",
          "1976-05-01T00:00:00",
          "1976-06-01T00:00:00",
          "1976-07-01T00:00:00",
          "1976-08-01T00:00:00",
          "1976-09-01T00:00:00",
          "1976-10-01T00:00:00",
          "1976-11-01T00:00:00",
          "1976-12-01T00:00:00",
          "1977-01-01T00:00:00",
          "1977-02-01T00:00:00",
          "1977-03-01T00:00:00",
          "1977-04-01T00:00:00",
          "1977-05-01T00:00:00",
          "1977-06-01T00:00:00",
          "1977-07-01T00:00:00",
          "1977-08-01T00:00:00",
          "1977-09-01T00:00:00",
          "1977-10-01T00:00:00",
          "1977-11-01T00:00:00",
          "1977-12-01T00:00:00",
          "1978-01-01T00:00:00",
          "1978-02-01T00:00:00",
          "1978-03-01T00:00:00",
          "1978-04-01T00:00:00",
          "1978-05-01T00:00:00",
          "1978-06-01T00:00:00",
          "1978-07-01T00:00:00",
          "1978-08-01T00:00:00",
          "1978-09-01T00:00:00",
          "1978-10-01T00:00:00",
          "1978-11-01T00:00:00",
          "1978-12-01T00:00:00",
          "1979-01-01T00:00:00",
          "1979-02-01T00:00:00",
          "1979-03-01T00:00:00",
          "1979-04-01T00:00:00",
          "1979-05-01T00:00:00",
          "1979-06-01T00:00:00",
          "1979-07-01T00:00:00",
          "1979-08-01T00:00:00",
          "1979-09-01T00:00:00",
          "1979-10-01T00:00:00",
          "1979-11-01T00:00:00",
          "1979-12-01T00:00:00",
          "1980-01-01T00:00:00",
          "1980-02-01T00:00:00",
          "1980-03-01T00:00:00",
          "1980-04-01T00:00:00",
          "1980-05-01T00:00:00",
          "1980-06-01T00:00:00",
          "1980-07-01T00:00:00",
          "1980-08-01T00:00:00",
          "1980-09-01T00:00:00",
          "1980-10-01T00:00:00",
          "1980-11-01T00:00:00",
          "1980-12-01T00:00:00",
          "1981-01-01T00:00:00",
          "1981-02-01T00:00:00",
          "1981-03-01T00:00:00",
          "1981-04-01T00:00:00",
          "1981-05-01T00:00:00",
          "1981-06-01T00:00:00",
          "1981-07-01T00:00:00",
          "1981-08-01T00:00:00",
          "1981-09-01T00:00:00",
          "1981-10-01T00:00:00",
          "1981-11-01T00:00:00",
          "1981-12-01T00:00:00",
          "1982-01-01T00:00:00",
          "1982-02-01T00:00:00",
          "1982-03-01T00:00:00",
          "1982-04-01T00:00:00",
          "1982-05-01T00:00:00",
          "1982-06-01T00:00:00",
          "1982-07-01T00:00:00",
          "1982-08-01T00:00:00",
          "1982-09-01T00:00:00",
          "1982-10-01T00:00:00",
          "1982-11-01T00:00:00",
          "1982-12-01T00:00:00",
          "1983-01-01T00:00:00",
          "1983-02-01T00:00:00",
          "1983-03-01T00:00:00",
          "1983-04-01T00:00:00",
          "1983-05-01T00:00:00",
          "1983-06-01T00:00:00",
          "1983-07-01T00:00:00",
          "1983-08-01T00:00:00",
          "1983-09-01T00:00:00",
          "1983-10-01T00:00:00",
          "1983-11-01T00:00:00",
          "1983-12-01T00:00:00",
          "1984-01-01T00:00:00",
          "1984-02-01T00:00:00",
          "1984-03-01T00:00:00",
          "1984-04-01T00:00:00",
          "1984-05-01T00:00:00",
          "1984-06-01T00:00:00",
          "1984-07-01T00:00:00",
          "1984-08-01T00:00:00",
          "1984-09-01T00:00:00",
          "1984-10-01T00:00:00",
          "1984-11-01T00:00:00",
          "1984-12-01T00:00:00",
          "1985-01-01T00:00:00",
          "1985-02-01T00:00:00",
          "1985-03-01T00:00:00",
          "1985-04-01T00:00:00",
          "1985-05-01T00:00:00",
          "1985-06-01T00:00:00",
          "1985-07-01T00:00:00",
          "1985-08-01T00:00:00",
          "1985-09-01T00:00:00",
          "1985-10-01T00:00:00",
          "1985-11-01T00:00:00",
          "1985-12-01T00:00:00",
          "1986-01-01T00:00:00",
          "1986-02-01T00:00:00",
          "1986-03-01T00:00:00",
          "1986-04-01T00:00:00",
          "1986-05-01T00:00:00",
          "1986-06-01T00:00:00",
          "1986-07-01T00:00:00",
          "1986-08-01T00:00:00",
          "1986-09-01T00:00:00",
          "1986-10-01T00:00:00",
          "1986-11-01T00:00:00",
          "1986-12-01T00:00:00",
          "1987-01-01T00:00:00",
          "1987-02-01T00:00:00",
          "1987-03-01T00:00:00",
          "1987-04-01T00:00:00",
          "1987-05-01T00:00:00",
          "1987-06-01T00:00:00",
          "1987-07-01T00:00:00",
          "1987-08-01T00:00:00",
          "1987-09-01T00:00:00",
          "1987-10-01T00:00:00",
          "1987-11-01T00:00:00",
          "1987-12-01T00:00:00",
          "1988-01-01T00:00:00",
          "1988-02-01T00:00:00",
          "1988-03-01T00:00:00",
          "1988-04-01T00:00:00",
          "1988-05-01T00:00:00",
          "1988-06-01T00:00:00",
          "1988-07-01T00:00:00",
          "1988-08-01T00:00:00",
          "1988-09-01T00:00:00",
          "1988-10-01T00:00:00",
          "1988-11-01T00:00:00",
          "1988-12-01T00:00:00",
          "1989-01-01T00:00:00",
          "1989-02-01T00:00:00",
          "1989-03-01T00:00:00",
          "1989-04-01T00:00:00",
          "1989-05-01T00:00:00",
          "1989-06-01T00:00:00",
          "1989-07-01T00:00:00",
          "1989-08-01T00:00:00",
          "1989-09-01T00:00:00",
          "1989-10-01T00:00:00",
          "1989-11-01T00:00:00",
          "1989-12-01T00:00:00",
          "1990-01-01T00:00:00",
          "1990-02-01T00:00:00",
          "1990-03-01T00:00:00",
          "1990-04-01T00:00:00",
          "1990-05-01T00:00:00",
          "1990-06-01T00:00:00",
          "1990-07-01T00:00:00",
          "1990-08-01T00:00:00",
          "1990-09-01T00:00:00",
          "1990-10-01T00:00:00",
          "1990-11-01T00:00:00",
          "1990-12-01T00:00:00",
          "1991-01-01T00:00:00",
          "1991-02-01T00:00:00",
          "1991-03-01T00:00:00",
          "1991-04-01T00:00:00",
          "1991-05-01T00:00:00",
          "1991-06-01T00:00:00",
          "1991-07-01T00:00:00",
          "1991-08-01T00:00:00",
          "1991-09-01T00:00:00",
          "1991-10-01T00:00:00",
          "1991-11-01T00:00:00",
          "1991-12-01T00:00:00",
          "1992-01-01T00:00:00",
          "1992-02-01T00:00:00",
          "1992-03-01T00:00:00",
          "1992-04-01T00:00:00",
          "1992-05-01T00:00:00",
          "1992-06-01T00:00:00",
          "1992-07-01T00:00:00",
          "1992-08-01T00:00:00",
          "1992-09-01T00:00:00",
          "1992-10-01T00:00:00",
          "1992-11-01T00:00:00",
          "1992-12-01T00:00:00",
          "1993-01-01T00:00:00",
          "1993-02-01T00:00:00",
          "1993-03-01T00:00:00",
          "1993-04-01T00:00:00",
          "1993-05-01T00:00:00",
          "1993-06-01T00:00:00",
          "1993-07-01T00:00:00",
          "1993-08-01T00:00:00",
          "1993-09-01T00:00:00",
          "1993-10-01T00:00:00",
          "1993-11-01T00:00:00",
          "1993-12-01T00:00:00",
          "1994-01-01T00:00:00",
          "1994-02-01T00:00:00",
          "1994-03-01T00:00:00",
          "1994-04-01T00:00:00",
          "1994-05-01T00:00:00",
          "1994-06-01T00:00:00",
          "1994-07-01T00:00:00",
          "1994-08-01T00:00:00",
          "1994-09-01T00:00:00",
          "1994-10-01T00:00:00",
          "1994-11-01T00:00:00",
          "1994-12-01T00:00:00",
          "1995-01-01T00:00:00",
          "1995-02-01T00:00:00",
          "1995-03-01T00:00:00",
          "1995-04-01T00:00:00",
          "1995-05-01T00:00:00",
          "1995-06-01T00:00:00",
          "1995-07-01T00:00:00",
          "1995-08-01T00:00:00",
          "1995-09-01T00:00:00",
          "1995-10-01T00:00:00",
          "1995-11-01T00:00:00",
          "1995-12-01T00:00:00",
          "1996-01-01T00:00:00",
          "1996-02-01T00:00:00",
          "1996-03-01T00:00:00",
          "1996-04-01T00:00:00",
          "1996-05-01T00:00:00",
          "1996-06-01T00:00:00",
          "1996-07-01T00:00:00",
          "1996-08-01T00:00:00",
          "1996-09-01T00:00:00",
          "1996-10-01T00:00:00",
          "1996-11-01T00:00:00",
          "1996-12-01T00:00:00",
          "1997-01-01T00:00:00",
          "1997-02-01T00:00:00",
          "1997-03-01T00:00:00",
          "1997-04-01T00:00:00",
          "1997-05-01T00:00:00",
          "1997-06-01T00:00:00",
          "1997-07-01T00:00:00",
          "1997-08-01T00:00:00",
          "1997-09-01T00:00:00",
          "1997-10-01T00:00:00",
          "1997-11-01T00:00:00",
          "1997-12-01T00:00:00",
          "1998-01-01T00:00:00",
          "1998-02-01T00:00:00",
          "1998-03-01T00:00:00",
          "1998-04-01T00:00:00",
          "1998-05-01T00:00:00",
          "1998-06-01T00:00:00",
          "1998-07-01T00:00:00",
          "1998-08-01T00:00:00",
          "1998-09-01T00:00:00",
          "1998-10-01T00:00:00",
          "1998-11-01T00:00:00",
          "1998-12-01T00:00:00",
          "1999-01-01T00:00:00",
          "1999-02-01T00:00:00",
          "1999-03-01T00:00:00",
          "1999-04-01T00:00:00",
          "1999-05-01T00:00:00",
          "1999-06-01T00:00:00",
          "1999-07-01T00:00:00",
          "1999-08-01T00:00:00",
          "1999-09-01T00:00:00",
          "1999-10-01T00:00:00",
          "1999-11-01T00:00:00",
          "1999-12-01T00:00:00",
          "2000-01-01T00:00:00",
          "2000-02-01T00:00:00",
          "2000-03-01T00:00:00",
          "2000-04-01T00:00:00",
          "2000-05-01T00:00:00",
          "2000-06-01T00:00:00",
          "2000-07-01T00:00:00",
          "2000-08-01T00:00:00",
          "2000-09-01T00:00:00",
          "2000-10-01T00:00:00",
          "2000-11-01T00:00:00",
          "2000-12-01T00:00:00",
          "2001-01-01T00:00:00",
          "2001-02-01T00:00:00",
          "2001-03-01T00:00:00",
          "2001-04-01T00:00:00",
          "2001-05-01T00:00:00",
          "2001-06-01T00:00:00",
          "2001-07-01T00:00:00",
          "2001-08-01T00:00:00",
          "2001-09-01T00:00:00",
          "2001-10-01T00:00:00",
          "2001-11-01T00:00:00",
          "2001-12-01T00:00:00",
          "2002-01-01T00:00:00",
          "2002-02-01T00:00:00",
          "2002-03-01T00:00:00",
          "2002-04-01T00:00:00",
          "2002-05-01T00:00:00",
          "2002-06-01T00:00:00",
          "2002-07-01T00:00:00",
          "2002-08-01T00:00:00",
          "2002-09-01T00:00:00",
          "2002-10-01T00:00:00",
          "2002-11-01T00:00:00",
          "2002-12-01T00:00:00",
          "2003-01-01T00:00:00",
          "2003-02-01T00:00:00",
          "2003-03-01T00:00:00",
          "2003-04-01T00:00:00",
          "2003-05-01T00:00:00",
          "2003-06-01T00:00:00",
          "2003-07-01T00:00:00",
          "2003-08-01T00:00:00",
          "2003-09-01T00:00:00",
          "2003-10-01T00:00:00",
          "2003-11-01T00:00:00",
          "2003-12-01T00:00:00",
          "2004-01-01T00:00:00",
          "2004-02-01T00:00:00",
          "2004-03-01T00:00:00",
          "2004-04-01T00:00:00",
          "2004-05-01T00:00:00",
          "2004-06-01T00:00:00",
          "2004-07-01T00:00:00",
          "2004-08-01T00:00:00",
          "2004-09-01T00:00:00",
          "2004-10-01T00:00:00",
          "2004-11-01T00:00:00",
          "2004-12-01T00:00:00",
          "2005-01-01T00:00:00",
          "2005-02-01T00:00:00",
          "2005-03-01T00:00:00",
          "2005-04-01T00:00:00",
          "2005-05-01T00:00:00",
          "2005-06-01T00:00:00",
          "2005-07-01T00:00:00",
          "2005-08-01T00:00:00",
          "2005-09-01T00:00:00",
          "2005-10-01T00:00:00",
          "2005-11-01T00:00:00",
          "2005-12-01T00:00:00",
          "2006-01-01T00:00:00",
          "2006-02-01T00:00:00",
          "2006-03-01T00:00:00",
          "2006-04-01T00:00:00",
          "2006-05-01T00:00:00",
          "2006-06-01T00:00:00",
          "2006-07-01T00:00:00",
          "2006-08-01T00:00:00",
          "2006-09-01T00:00:00",
          "2006-10-01T00:00:00",
          "2006-11-01T00:00:00",
          "2006-12-01T00:00:00",
          "2007-01-01T00:00:00",
          "2007-02-01T00:00:00",
          "2007-03-01T00:00:00",
          "2007-04-01T00:00:00",
          "2007-05-01T00:00:00",
          "2007-06-01T00:00:00",
          "2007-07-01T00:00:00",
          "2007-08-01T00:00:00",
          "2007-09-01T00:00:00",
          "2007-10-01T00:00:00",
          "2007-11-01T00:00:00",
          "2007-12-01T00:00:00",
          "2008-01-01T00:00:00",
          "2008-02-01T00:00:00",
          "2008-03-01T00:00:00",
          "2008-04-01T00:00:00",
          "2008-05-01T00:00:00",
          "2008-06-01T00:00:00",
          "2008-07-01T00:00:00",
          "2008-08-01T00:00:00",
          "2008-09-01T00:00:00",
          "2008-10-01T00:00:00",
          "2008-11-01T00:00:00",
          "2008-12-01T00:00:00",
          "2009-01-01T00:00:00",
          "2009-02-01T00:00:00",
          "2009-03-01T00:00:00",
          "2009-04-01T00:00:00",
          "2009-05-01T00:00:00",
          "2009-06-01T00:00:00",
          "2009-07-01T00:00:00",
          "2009-08-01T00:00:00",
          "2009-09-01T00:00:00",
          "2009-10-01T00:00:00",
          "2009-11-01T00:00:00",
          "2009-12-01T00:00:00",
          "2010-01-01T00:00:00",
          "2010-02-01T00:00:00",
          "2010-03-01T00:00:00",
          "2010-04-01T00:00:00",
          "2010-05-01T00:00:00",
          "2010-06-01T00:00:00",
          "2010-07-01T00:00:00",
          "2010-08-01T00:00:00",
          "2010-09-01T00:00:00",
          "2010-10-01T00:00:00",
          "2010-11-01T00:00:00",
          "2010-12-01T00:00:00",
          "2011-01-01T00:00:00",
          "2011-02-01T00:00:00",
          "2011-03-01T00:00:00",
          "2011-04-01T00:00:00",
          "2011-05-01T00:00:00",
          "2011-06-01T00:00:00",
          "2011-07-01T00:00:00",
          "2011-08-01T00:00:00",
          "2011-09-01T00:00:00",
          "2011-10-01T00:00:00",
          "2011-11-01T00:00:00",
          "2011-12-01T00:00:00",
          "2012-01-01T00:00:00",
          "2012-02-01T00:00:00",
          "2012-03-01T00:00:00",
          "2012-04-01T00:00:00",
          "2012-05-01T00:00:00",
          "2012-06-01T00:00:00",
          "2012-07-01T00:00:00",
          "2012-08-01T00:00:00",
          "2012-09-01T00:00:00",
          "2012-10-01T00:00:00",
          "2012-11-01T00:00:00",
          "2012-12-01T00:00:00",
          "2013-01-01T00:00:00",
          "2013-02-01T00:00:00",
          "2013-03-01T00:00:00",
          "2013-04-01T00:00:00",
          "2013-05-01T00:00:00",
          "2013-06-01T00:00:00",
          "2013-07-01T00:00:00",
          "2013-08-01T00:00:00",
          "2013-09-01T00:00:00",
          "2013-10-01T00:00:00",
          "2013-11-01T00:00:00",
          "2013-12-01T00:00:00",
          "2014-01-01T00:00:00",
          "2014-02-01T00:00:00",
          "2014-03-01T00:00:00",
          "2014-04-01T00:00:00",
          "2014-05-01T00:00:00",
          "2014-06-01T00:00:00",
          "2014-07-01T00:00:00",
          "2014-08-01T00:00:00",
          "2014-09-01T00:00:00",
          "2014-10-01T00:00:00",
          "2014-11-01T00:00:00",
          "2014-12-01T00:00:00",
          "2015-01-01T00:00:00",
          "2015-02-01T00:00:00",
          "2015-03-01T00:00:00",
          "2015-04-01T00:00:00",
          "2015-05-01T00:00:00",
          "2015-06-01T00:00:00",
          "2015-07-01T00:00:00",
          "2015-08-01T00:00:00",
          "2015-09-01T00:00:00",
          "2015-10-01T00:00:00",
          "2015-11-01T00:00:00",
          "2015-12-01T00:00:00",
          "2016-01-01T00:00:00",
          "2016-02-01T00:00:00",
          "2016-03-01T00:00:00",
          "2016-04-01T00:00:00",
          "2016-05-01T00:00:00",
          "2016-06-01T00:00:00",
          "2016-07-01T00:00:00",
          "2016-08-01T00:00:00",
          "2016-09-01T00:00:00",
          "2016-10-01T00:00:00",
          "2016-11-01T00:00:00",
          "2016-12-01T00:00:00",
          "2017-01-01T00:00:00",
          "2017-02-01T00:00:00",
          "2017-03-01T00:00:00",
          "2017-04-01T00:00:00",
          "2017-05-01T00:00:00",
          "2017-06-01T00:00:00",
          "2017-07-01T00:00:00",
          "2017-08-01T00:00:00",
          "2017-09-01T00:00:00",
          "2017-10-01T00:00:00",
          "2017-11-01T00:00:00",
          "2017-12-01T00:00:00",
          "2018-01-01T00:00:00",
          "2018-02-01T00:00:00",
          "2018-03-01T00:00:00",
          "2018-04-01T00:00:00",
          "2018-05-01T00:00:00",
          "2018-06-01T00:00:00",
          "2018-07-01T00:00:00",
          "2018-08-01T00:00:00",
          "2018-09-01T00:00:00",
          "2018-10-01T00:00:00",
          "2018-11-01T00:00:00",
          "2018-12-01T00:00:00",
          "2019-01-01T00:00:00",
          "2019-02-01T00:00:00",
          "2019-03-01T00:00:00",
          "2019-04-01T00:00:00",
          "2019-05-01T00:00:00",
          "2019-06-01T00:00:00",
          "2019-07-01T00:00:00",
          "2019-08-01T00:00:00",
          "2019-09-01T00:00:00",
          "2019-10-01T00:00:00",
          "2019-11-01T00:00:00",
          "2019-12-01T00:00:00",
          "2020-01-01T00:00:00",
          "2020-02-01T00:00:00",
          "2020-03-01T00:00:00",
          "2020-04-01T00:00:00",
          "2020-05-01T00:00:00",
          "2020-06-01T00:00:00",
          "2020-07-01T00:00:00"
         ],
         "xaxis": "x",
         "y": [
          3.3842,
          3.41,
          3.4875,
          3.5133,
          3.5133,
          3.565,
          3.565,
          3.6167,
          3.72,
          3.72,
          3.7458,
          3.7458,
          3.7717,
          3.8233,
          3.8492,
          3.8492,
          3.875,
          3.9267,
          3.9267,
          3.9783,
          4.03,
          4.0558,
          4.1592,
          4.1592,
          4.185,
          4.2367,
          4.2883,
          4.34,
          4.3658,
          4.4433,
          4.495,
          4.5467,
          4.5725,
          4.5983,
          4.65,
          4.7533,
          4.805,
          4.8567,
          4.8825,
          4.8825,
          4.8825,
          4.9084,
          5.0634,
          5.0892,
          5.115,
          5.115,
          5.1925,
          5.27,
          5.2184,
          5.2959,
          5.3217,
          5.3992,
          5.425,
          5.5284,
          5.58,
          5.6059,
          5.7092,
          5.7092,
          5.7867,
          5.7867,
          5.735,
          5.8125,
          5.9159,
          5.9417,
          5.9417,
          5.9417,
          5.89,
          5.9159,
          5.89,
          5.8384,
          5.89,
          5.9159,
          6.0192,
          6.0192,
          5.9934,
          5.9934,
          6.045,
          6.1225,
          6.0967,
          5.9934,
          5.89,
          5.8384,
          5.89,
          5.9417,
          5.9417,
          5.9417,
          5.9417,
          6.045,
          6.0967,
          6.1225,
          6.2517,
          6.355,
          6.4325,
          6.51,
          6.5359,
          6.5617,
          6.7425,
          6.6134,
          6.5617,
          6.5617,
          6.5359,
          6.5359,
          6.5359,
          6.7167,
          6.8459,
          6.8717,
          6.9492,
          7.285,
          7.6467,
          7.4659,
          7.4917,
          7.3367,
          7.1817,
          7.2334,
          7.285,
          7.4659,
          7.595,
          7.6725,
          7.7759,
          8.0859,
          8.2667,
          8.0859,
          7.9825,
          7.8017,
          7.6467,
          7.6984,
          7.8017,
          7.9825,
          8.06,
          8.0084,
          8.215,
          8.68,
          9.0934,
          8.8867,
          8.9384,
          8.835,
          8.8092,
          8.8867,
          8.9125,
          9.1192,
          9.2484,
          9.4034,
          9.5325,
          9.8684,
          10.4367,
          10.2817,
          10.2817,
          10.2559,
          10.0492,
          10.1784,
          10.23,
          10.4625,
          10.5659,
          10.4884,
          10.695,
          11.005,
          11.5475,
          11.2892,
          11.2117,
          10.9275,
          10.7209,
          10.7984,
          10.9792,
          11.3409,
          11.5475,
          11.5217,
          11.625,
          12.0384,
          12.4517,
          12.0642,
          12.1417,
          12.0642,
          11.9092,
          12.0642,
          12.245,
          12.4259,
          12.4259,
          12.3225,
          12.245,
          12.6584,
          13.3559,
          12.9942,
          12.9425,
          12.7875,
          12.5292,
          12.7359,
          13.0717,
          13.4076,
          13.4592,
          13.3559,
          13.4076,
          14.0792,
          14.4925,
          14.4409,
          14.4409,
          14.2859,
          14.0017,
          14.1309,
          14.4925,
          15.2159,
          15.3192,
          15.035,
          15.1125,
          15.8876,
          16.4559,
          16.2492,
          16.0942,
          15.8876,
          15.7326,
          15.8359,
          16.0684,
          16.4559,
          16.3526,
          16.0684,
          16.0684,
          16.7917,
          17.5409,
          17.3084,
          17.0759,
          16.7917,
          16.5076,
          16.7142,
          17.3859,
          17.9284,
          17.6701,
          17.1792,
          17.2309,
          17.8767,
          18.4967,
          18.1867,
          17.9542,
          17.3342,
          16.9984,
          17.4376,
          17.9284,
          18.6517,
          18.7034,
          18.1351,
          18.0576,
          19.0134,
          20.0209,
          19.6851,
          19.5817,
          19.1167,
          18.9876,
          19.5817,
          20.0984,
          20.5117,
          20.7184,
          19.7884,
          19.7367,
          20.8734,
          21.7518,
          21.4417,
          21.5451,
          20.8217,
          20.2017,
          20.7184,
          21.2351,
          22.0617,
          22.0876,
          21.0542,
          20.8217,
          21.5967,
          22.6301,
          22.1651,
          21.8551,
          21.4934,
          21.4934,
          21.9584,
          22.4751,
          23.5343,
          23.6634,
          22.7334,
          22.3976,
          23.3276,
          24.7226,
          24.0768,
          23.9218,
          23.0434,
          22.9401,
          23.7151,
          24.4384,
          25.1101,
          25.1101,
          24.0768,
          23.9218,
          24.8259,
          26.2726,
          25.9626,
          25.4718,
          24.5159,
          24.5159,
          25.3168,
          26.4534,
          27.3059,
          26.9184,
          25.5493,
          25.2393,
          26.4793,
          28.2101,
          27.3576,
          27.2801,
          26.8409,
          26.6343,
          27.5126,
          29.2693,
          30.0701,
          29.4243,
          27.9001,
          27.2801,
          28.8043,
          29.9409,
          29.2693,
          29.321,
          28.6493,
          28.1584,
          29.1659,
          30.4834,
          31.5168,
          31.3618,
          29.8376,
          29.0368,
          30.5093,
          31.7493,
          31.6976,
          31.2585,
          30.2768,
          30.0443,
          31.2068,
          33.8676,
          34.8751,
          33.8418,
          31.7235,
          31.3101,
          32.731,
          34.5227,
          33.9469,
          32.8941,
          32.6367,
          31.5629,
          32.9433,
          34.0303,
          34.4184,
          33.3846,
          33.3188,
          33.8395,
          35.8727,
          37.2112,
          36.2878,
          35.9943,
          34.3456,
          33.9643,
          36.1243,
          36.7772,
          38.101,
          37.2582,
          35.4821,
          36.1209,
          38.7412,
          40.1646,
          39.742,
          39.009,
          37.1541,
          36.3473,
          38.9665,
          40.8649,
          42.2285,
          40.3886,
          38.7361,
          39.7794,
          41.202,
          43.0869,
          42.5578,
          41.6215,
          40.1982,
          39.9321,
          41.1847,
          43.223,
          44.8139,
          43.6007,
          40.5467,
          40.9385,
          42.1117,
          44.9517,
          44.3696,
          42.7548,
          41.4234,
          40.8295,
          43.5488,
          45.1876,
          46.1091,
          45.505,
          43.9496,
          44.003,
          45.6054,
          48.8393,
          50.0191,
          47.8421,
          44.5127,
          42.1062,
          43.8217,
          45.3964,
          47.9892,
          46.8293,
          44.6882,
          47.1979,
          52.176,
          55.9342,
          53.9974,
          50.5102,
          46.8192,
          44.9289,
          47.4589,
          49.3168,
          51.091,
          50.0826,
          47.0794,
          47.8829,
          49.7968,
          53.8212,
          51.6563,
          49.7985,
          46.8319,
          45.4161,
          47.1087,
          50.7056,
          51.7371,
          48.6742,
          47.1172,
          47.7516,
          52.9379,
          55.6989,
          54.4115,
          52.1395,
          49.3369,
          46.1066,
          47.3769,
          50.5251,
          52.2585,
          49.432,
          46.7476,
          47.7981,
          54.4112,
          60.6121,
          56.9337,
          52.9187,
          48.7185,
          46.6811,
          49.2486,
          52.022,
          53.3791,
          51.1013,
          49.1373,
          53.2579,
          60.8207,
          66.1065,
          61.3553,
          54.9875,
          50.5114,
          49.3162,
          52.3147,
          55.7601,
          55.929,
          53.2255,
          50.7423,
          51.8983,
          59.5842,
          65.4681,
          64.4632,
          58.7322,
          51.4137,
          49.9912,
          53.1982,
          55.5156,
          57.5132,
          55.0594,
          52.1993,
          54.0541,
          60.7576,
          68.7075,
          68.1212,
          61.374,
          55.2722,
          51.4048,
          53.2473,
          55.4418,
          57.6476,
          54.2322,
          52.7558,
          54.6456,
          60.0874,
          65.381,
          64.7721,
          60.8807,
          53.1114,
          49.7992,
          52.4268,
          58.5254,
          60.4105,
          57.738,
          54.7637,
          56.4616,
          63.4413,
          69.2715,
          63.6341,
          60.1027,
          54.1446,
          52.2484,
          56.4915,
          60.622,
          60.6506,
          56.3729,
          54.6841,
          55.7249,
          63.4345,
          70.6727,
          64.2728,
          59.7759,
          54.109,
          49.8577,
          52.7065,
          56.6437,
          57.1923,
          54,
          51.7022,
          54.0655,
          58.7664,
          65.9628,
          59.162,
          57.314,
          52.9718,
          49.1707,
          51.7103,
          57.9314,
          61.588,
          57.8078,
          53.7753,
          55.798,
          65.6301,
          73.2688,
          66.2545,
          63.2801,
          57.4501,
          55.1499,
          57.9273,
          60.6775,
          62.3596,
          58.0827,
          54.7212,
          57.1673,
          63.3492,
          72.6803,
          70.8479,
          62.6166,
          57.6106,
          55.4467,
          58.2228,
          62.7591,
          63.3921,
          60.7507,
          56.4553,
          58.1385,
          68.8758,
          73.4956,
          68.1637,
          62.3923,
          57.1915,
          55.9599,
          60.0336,
          65.9077,
          64.645,
          61.1742,
          57.6978,
          59.4964,
          68.3302,
          74.0173,
          70.254,
          65.7966,
          60.3229,
          59.0245,
          64.0345,
          69.0282,
          70.2369,
          64.2987,
          60.5402,
          62.6219,
          70.7671,
          80.0833,
          76.3631,
          70.4954,
          63.4244,
          61.5776,
          67.2741,
          73.1676,
          75.9479,
          67.7223,
          63.4592,
          65.2706,
          74.0492,
          78.1368,
          76.8499,
          73.5377,
          65.2676,
          63.8617,
          68.6587,
          74.2491,
          75.2704,
          69.5107,
          66.062,
          69.2555,
          84.404,
          84.6447,
          77.4221,
          73.4205,
          67.4636,
          66.0145,
          71.6535,
          76.8376,
          77.3265,
          73.277,
          67.6237,
          68.7675,
          77.9179,
          86.2914,
          77.8027,
          73.6061,
          67.3549,
          69.0228,
          75.0839,
          80.3488,
          79.4052,
          73.8126,
          68.9572,
          72.7156,
          79.7391,
          85.556,
          80.4178,
          74.739,
          69.8367,
          67.3781,
          71.4197,
          77.7263,
          76.7791,
          72.5681,
          69.2363,
          73.7175,
          84.7818,
          88.2287,
          84.7919,
          79.6885,
          71.2731,
          67.9111,
          74.5503,
          82.3366,
          82.2906,
          74.8323,
          69.8758,
          74.6278,
          84.4669,
          94.4017,
          87.4053,
          79.4751,
          71.1817,
          69.5934,
          78.1988,
          83.5287,
          82.1321,
          75.9181,
          71.4802,
          75.4754,
          85.0772,
          92.7412,
          87.667,
          81.5205,
          74.0457,
          73.5003,
          78.5503,
          86.2425,
          89.8063,
          78.7442,
          73.9353,
          79.8903,
          91.0933,
          99.2688,
          93.1691,
          87.2075,
          77.4715,
          76.9337,
          82.1958,
          86.2321,
          86.824,
          79.4425,
          74.911,
          81.3,
          90.753,
          98.7482,
          90.0486,
          83.2671,
          76.3793,
          74.0777,
          80.0138,
          88.7168,
          88.0487,
          82.1801,
          77.7266,
          82.2802,
          92.3623,
          95.0701,
          88.0838,
          86.8125,
          76.9828,
          78.2652,
          86.7123,
          94.1078,
          93.7954,
          87.7915,
          80.3296,
          81.6742,
          91.9551,
          102.4467,
          91.4671,
          91.0236,
          80.7497,
          79.6373,
          88.1204,
          97.7757,
          96.7014,
          87.4885,
          80.8647,
          82.4395,
          94.7746,
          102.4971,
          94.5218,
          88.3463,
          81.6662,
          84.7235,
          91.3293,
          96.3011,
          99.6734,
          90.9515,
          83.378,
          88.2458,
          102.6901,
          109.3416,
          97.3953,
          93.0564,
          83.1332,
          82.7827,
          90.6648,
          96.3283,
          99.8132,
          88.5136,
          82.9006,
          83.1461,
          93.2796,
          103.2604,
          95.4593,
          93.51,
          86.0517,
          85.5043,
          93.4856,
          102.6936,
          101.9121,
          93.5608,
          87.1293,
          88.8047,
          101.0439,
          110.4292,
          104.0828,
          94.8015,
          85.3124,
          85.7418,
          91.3695,
          102.5243,
          104.7716,
          93.1841,
          86.7534,
          88.828,
          103.8162,
          113.996,
          106.4378,
          95.6626,
          86.9849,
          89.324,
          95.8104,
          102.1007,
          100.4992,
          94.2998,
          87.7732,
          89.8297,
          105.9787,
          111.4496,
          101.9498,
          99.2324,
          86.6793,
          87.3784,
          99.7382,
          108.8005,
          109.9901,
          99.5563,
          90.1695,
          90.6297,
          108.4977,
          104.8128,
          101.631,
          98.6932,
          87.7034,
          90.2388,
          100.7836,
          111.3696,
          111.9898,
          96.1212,
          90.6869,
          92.5922,
          103.3658,
          112.3854,
          112.1298,
          99.469,
          91.045,
          92.3001,
          101.2636,
          107.9356,
          114.5031,
          101.8592,
          93.282,
          94.1475,
          107.0407,
          115.1666,
          108.519,
          100.7093,
          91.2094,
          91.4431,
          104.1756,
          111.08,
          107.8943,
          98.0097,
          91.2397,
          94.0321,
          109.6583,
          117.1041,
          104.6585,
          98.0044,
          88.3217,
          87.7293,
          97.5535,
          104.1673,
          106.0048,
          95.0942,
          89.3811,
          89.4576,
          110.8777,
          119.2473,
          110.7525,
          98.343,
          86.2612,
          90.8459,
          104.4774,
          113.1386,
          113.255,
          100.3372,
          89.0653,
          92.8343,
          114.5367,
          119.7475,
          107.4965,
          99.1848,
          89.3568,
          90.0903,
          102.9273,
          114.9326,
          113.765,
          99.5821,
          90.3241,
          93.7486,
          107.3309,
          111.8351,
          103.3433,
          93.4051,
          87.4539,
          92.7704,
          101.2446,
          113.3866,
          110.1671,
          96.9014,
          90.2609,
          94.2111,
          105.0203,
          115.2323,
          106.4512,
          102.6701,
          90.6136,
          90.7,
          100.6631,
          110.3583,
          108.4228,
          99.3427,
          91.6671,
          96.9845,
          113.3465,
          124.0216,
          112.6796,
          104.4158,
          89.8017,
          91.861,
          101.6422,
          108.633,
          108.3892,
          100.4238,
          92.1366,
          99.1114,
          108.9783,
          119.9317,
          116.1393,
          104.0218,
          89.1544,
          90.695,
          102.8863,
          111.9826,
          110.7643,
          101.7996,
          90.9888,
          92.2113,
          102.3222,
          116.8926,
          105.9614,
          94.2339,
          88.1615,
          89.4711,
          103.4258,
          114.1946,
          115.5015,
          102.2398,
          90.8499,
          92.6032,
          114.0219,
          116.4746,
          99.5393,
          101.0063,
          87.0374,
          90.3591,
          100.4412,
          111.2371,
          107.7583,
          97.0813,
          92.302,
          97.7214,
          117.2377,
          128.9071,
          107.6711,
          104.5716,
          93.4491,
          93.2405,
          103.3083,
          113.3178,
          113.2758,
          101.5656,
          95.3203,
          103.575,
          112.9498,
          123.7687,
          112.9837,
          106.6593,
          88.6631,
          91.9852,
          98.4548,
          113.0791,
          111.2697,
          102.0185,
          93.9518,
          102.1902,
          113.0698,
          116.0371,
          109.6578,
          97.8951,
          86.3541,
          86.9068,
          99.5332,
          113.3927
         ],
         "yaxis": "y"
        }
       ],
       "layout": {
        "legend": {
         "tracegroupgap": 0
        },
        "template": {
         "data": {
          "bar": [
           {
            "error_x": {
             "color": "#2a3f5f"
            },
            "error_y": {
             "color": "#2a3f5f"
            },
            "marker": {
             "line": {
              "color": "#E5ECF6",
              "width": 0.5
             }
            },
            "type": "bar"
           }
          ],
          "barpolar": [
           {
            "marker": {
             "line": {
              "color": "#E5ECF6",
              "width": 0.5
             }
            },
            "type": "barpolar"
           }
          ],
          "carpet": [
           {
            "aaxis": {
             "endlinecolor": "#2a3f5f",
             "gridcolor": "white",
             "linecolor": "white",
             "minorgridcolor": "white",
             "startlinecolor": "#2a3f5f"
            },
            "baxis": {
             "endlinecolor": "#2a3f5f",
             "gridcolor": "white",
             "linecolor": "white",
             "minorgridcolor": "white",
             "startlinecolor": "#2a3f5f"
            },
            "type": "carpet"
           }
          ],
          "choropleth": [
           {
            "colorbar": {
             "outlinewidth": 0,
             "ticks": ""
            },
            "type": "choropleth"
           }
          ],
          "contour": [
           {
            "colorbar": {
             "outlinewidth": 0,
             "ticks": ""
            },
            "colorscale": [
             [
              0,
              "#0d0887"
             ],
             [
              0.1111111111111111,
              "#46039f"
             ],
             [
              0.2222222222222222,
              "#7201a8"
             ],
             [
              0.3333333333333333,
              "#9c179e"
             ],
             [
              0.4444444444444444,
              "#bd3786"
             ],
             [
              0.5555555555555556,
              "#d8576b"
             ],
             [
              0.6666666666666666,
              "#ed7953"
             ],
             [
              0.7777777777777778,
              "#fb9f3a"
             ],
             [
              0.8888888888888888,
              "#fdca26"
             ],
             [
              1,
              "#f0f921"
             ]
            ],
            "type": "contour"
           }
          ],
          "contourcarpet": [
           {
            "colorbar": {
             "outlinewidth": 0,
             "ticks": ""
            },
            "type": "contourcarpet"
           }
          ],
          "heatmap": [
           {
            "colorbar": {
             "outlinewidth": 0,
             "ticks": ""
            },
            "colorscale": [
             [
              0,
              "#0d0887"
             ],
             [
              0.1111111111111111,
              "#46039f"
             ],
             [
              0.2222222222222222,
              "#7201a8"
             ],
             [
              0.3333333333333333,
              "#9c179e"
             ],
             [
              0.4444444444444444,
              "#bd3786"
             ],
             [
              0.5555555555555556,
              "#d8576b"
             ],
             [
              0.6666666666666666,
              "#ed7953"
             ],
             [
              0.7777777777777778,
              "#fb9f3a"
             ],
             [
              0.8888888888888888,
              "#fdca26"
             ],
             [
              1,
              "#f0f921"
             ]
            ],
            "type": "heatmap"
           }
          ],
          "heatmapgl": [
           {
            "colorbar": {
             "outlinewidth": 0,
             "ticks": ""
            },
            "colorscale": [
             [
              0,
              "#0d0887"
             ],
             [
              0.1111111111111111,
              "#46039f"
             ],
             [
              0.2222222222222222,
              "#7201a8"
             ],
             [
              0.3333333333333333,
              "#9c179e"
             ],
             [
              0.4444444444444444,
              "#bd3786"
             ],
             [
              0.5555555555555556,
              "#d8576b"
             ],
             [
              0.6666666666666666,
              "#ed7953"
             ],
             [
              0.7777777777777778,
              "#fb9f3a"
             ],
             [
              0.8888888888888888,
              "#fdca26"
             ],
             [
              1,
              "#f0f921"
             ]
            ],
            "type": "heatmapgl"
           }
          ],
          "histogram": [
           {
            "marker": {
             "colorbar": {
              "outlinewidth": 0,
              "ticks": ""
             }
            },
            "type": "histogram"
           }
          ],
          "histogram2d": [
           {
            "colorbar": {
             "outlinewidth": 0,
             "ticks": ""
            },
            "colorscale": [
             [
              0,
              "#0d0887"
             ],
             [
              0.1111111111111111,
              "#46039f"
             ],
             [
              0.2222222222222222,
              "#7201a8"
             ],
             [
              0.3333333333333333,
              "#9c179e"
             ],
             [
              0.4444444444444444,
              "#bd3786"
             ],
             [
              0.5555555555555556,
              "#d8576b"
             ],
             [
              0.6666666666666666,
              "#ed7953"
             ],
             [
              0.7777777777777778,
              "#fb9f3a"
             ],
             [
              0.8888888888888888,
              "#fdca26"
             ],
             [
              1,
              "#f0f921"
             ]
            ],
            "type": "histogram2d"
           }
          ],
          "histogram2dcontour": [
           {
            "colorbar": {
             "outlinewidth": 0,
             "ticks": ""
            },
            "colorscale": [
             [
              0,
              "#0d0887"
             ],
             [
              0.1111111111111111,
              "#46039f"
             ],
             [
              0.2222222222222222,
              "#7201a8"
             ],
             [
              0.3333333333333333,
              "#9c179e"
             ],
             [
              0.4444444444444444,
              "#bd3786"
             ],
             [
              0.5555555555555556,
              "#d8576b"
             ],
             [
              0.6666666666666666,
              "#ed7953"
             ],
             [
              0.7777777777777778,
              "#fb9f3a"
             ],
             [
              0.8888888888888888,
              "#fdca26"
             ],
             [
              1,
              "#f0f921"
             ]
            ],
            "type": "histogram2dcontour"
           }
          ],
          "mesh3d": [
           {
            "colorbar": {
             "outlinewidth": 0,
             "ticks": ""
            },
            "type": "mesh3d"
           }
          ],
          "parcoords": [
           {
            "line": {
             "colorbar": {
              "outlinewidth": 0,
              "ticks": ""
             }
            },
            "type": "parcoords"
           }
          ],
          "pie": [
           {
            "automargin": true,
            "type": "pie"
           }
          ],
          "scatter": [
           {
            "marker": {
             "colorbar": {
              "outlinewidth": 0,
              "ticks": ""
             }
            },
            "type": "scatter"
           }
          ],
          "scatter3d": [
           {
            "line": {
             "colorbar": {
              "outlinewidth": 0,
              "ticks": ""
             }
            },
            "marker": {
             "colorbar": {
              "outlinewidth": 0,
              "ticks": ""
             }
            },
            "type": "scatter3d"
           }
          ],
          "scattercarpet": [
           {
            "marker": {
             "colorbar": {
              "outlinewidth": 0,
              "ticks": ""
             }
            },
            "type": "scattercarpet"
           }
          ],
          "scattergeo": [
           {
            "marker": {
             "colorbar": {
              "outlinewidth": 0,
              "ticks": ""
             }
            },
            "type": "scattergeo"
           }
          ],
          "scattergl": [
           {
            "marker": {
             "colorbar": {
              "outlinewidth": 0,
              "ticks": ""
             }
            },
            "type": "scattergl"
           }
          ],
          "scattermapbox": [
           {
            "marker": {
             "colorbar": {
              "outlinewidth": 0,
              "ticks": ""
             }
            },
            "type": "scattermapbox"
           }
          ],
          "scatterpolar": [
           {
            "marker": {
             "colorbar": {
              "outlinewidth": 0,
              "ticks": ""
             }
            },
            "type": "scatterpolar"
           }
          ],
          "scatterpolargl": [
           {
            "marker": {
             "colorbar": {
              "outlinewidth": 0,
              "ticks": ""
             }
            },
            "type": "scatterpolargl"
           }
          ],
          "scatterternary": [
           {
            "marker": {
             "colorbar": {
              "outlinewidth": 0,
              "ticks": ""
             }
            },
            "type": "scatterternary"
           }
          ],
          "surface": [
           {
            "colorbar": {
             "outlinewidth": 0,
             "ticks": ""
            },
            "colorscale": [
             [
              0,
              "#0d0887"
             ],
             [
              0.1111111111111111,
              "#46039f"
             ],
             [
              0.2222222222222222,
              "#7201a8"
             ],
             [
              0.3333333333333333,
              "#9c179e"
             ],
             [
              0.4444444444444444,
              "#bd3786"
             ],
             [
              0.5555555555555556,
              "#d8576b"
             ],
             [
              0.6666666666666666,
              "#ed7953"
             ],
             [
              0.7777777777777778,
              "#fb9f3a"
             ],
             [
              0.8888888888888888,
              "#fdca26"
             ],
             [
              1,
              "#f0f921"
             ]
            ],
            "type": "surface"
           }
          ],
          "table": [
           {
            "cells": {
             "fill": {
              "color": "#EBF0F8"
             },
             "line": {
              "color": "white"
             }
            },
            "header": {
             "fill": {
              "color": "#C8D4E3"
             },
             "line": {
              "color": "white"
             }
            },
            "type": "table"
           }
          ]
         },
         "layout": {
          "annotationdefaults": {
           "arrowcolor": "#2a3f5f",
           "arrowhead": 0,
           "arrowwidth": 1
          },
          "coloraxis": {
           "colorbar": {
            "outlinewidth": 0,
            "ticks": ""
           }
          },
          "colorscale": {
           "diverging": [
            [
             0,
             "#8e0152"
            ],
            [
             0.1,
             "#c51b7d"
            ],
            [
             0.2,
             "#de77ae"
            ],
            [
             0.3,
             "#f1b6da"
            ],
            [
             0.4,
             "#fde0ef"
            ],
            [
             0.5,
             "#f7f7f7"
            ],
            [
             0.6,
             "#e6f5d0"
            ],
            [
             0.7,
             "#b8e186"
            ],
            [
             0.8,
             "#7fbc41"
            ],
            [
             0.9,
             "#4d9221"
            ],
            [
             1,
             "#276419"
            ]
           ],
           "sequential": [
            [
             0,
             "#0d0887"
            ],
            [
             0.1111111111111111,
             "#46039f"
            ],
            [
             0.2222222222222222,
             "#7201a8"
            ],
            [
             0.3333333333333333,
             "#9c179e"
            ],
            [
             0.4444444444444444,
             "#bd3786"
            ],
            [
             0.5555555555555556,
             "#d8576b"
            ],
            [
             0.6666666666666666,
             "#ed7953"
            ],
            [
             0.7777777777777778,
             "#fb9f3a"
            ],
            [
             0.8888888888888888,
             "#fdca26"
            ],
            [
             1,
             "#f0f921"
            ]
           ],
           "sequentialminus": [
            [
             0,
             "#0d0887"
            ],
            [
             0.1111111111111111,
             "#46039f"
            ],
            [
             0.2222222222222222,
             "#7201a8"
            ],
            [
             0.3333333333333333,
             "#9c179e"
            ],
            [
             0.4444444444444444,
             "#bd3786"
            ],
            [
             0.5555555555555556,
             "#d8576b"
            ],
            [
             0.6666666666666666,
             "#ed7953"
            ],
            [
             0.7777777777777778,
             "#fb9f3a"
            ],
            [
             0.8888888888888888,
             "#fdca26"
            ],
            [
             1,
             "#f0f921"
            ]
           ]
          },
          "colorway": [
           "#636efa",
           "#EF553B",
           "#00cc96",
           "#ab63fa",
           "#FFA15A",
           "#19d3f3",
           "#FF6692",
           "#B6E880",
           "#FF97FF",
           "#FECB52"
          ],
          "font": {
           "color": "#2a3f5f"
          },
          "geo": {
           "bgcolor": "white",
           "lakecolor": "white",
           "landcolor": "#E5ECF6",
           "showlakes": true,
           "showland": true,
           "subunitcolor": "white"
          },
          "hoverlabel": {
           "align": "left"
          },
          "hovermode": "closest",
          "mapbox": {
           "style": "light"
          },
          "paper_bgcolor": "white",
          "plot_bgcolor": "#E5ECF6",
          "polar": {
           "angularaxis": {
            "gridcolor": "white",
            "linecolor": "white",
            "ticks": ""
           },
           "bgcolor": "#E5ECF6",
           "radialaxis": {
            "gridcolor": "white",
            "linecolor": "white",
            "ticks": ""
           }
          },
          "scene": {
           "xaxis": {
            "backgroundcolor": "#E5ECF6",
            "gridcolor": "white",
            "gridwidth": 2,
            "linecolor": "white",
            "showbackground": true,
            "ticks": "",
            "zerolinecolor": "white"
           },
           "yaxis": {
            "backgroundcolor": "#E5ECF6",
            "gridcolor": "white",
            "gridwidth": 2,
            "linecolor": "white",
            "showbackground": true,
            "ticks": "",
            "zerolinecolor": "white"
           },
           "zaxis": {
            "backgroundcolor": "#E5ECF6",
            "gridcolor": "white",
            "gridwidth": 2,
            "linecolor": "white",
            "showbackground": true,
            "ticks": "",
            "zerolinecolor": "white"
           }
          },
          "shapedefaults": {
           "line": {
            "color": "#2a3f5f"
           }
          },
          "ternary": {
           "aaxis": {
            "gridcolor": "white",
            "linecolor": "white",
            "ticks": ""
           },
           "baxis": {
            "gridcolor": "white",
            "linecolor": "white",
            "ticks": ""
           },
           "bgcolor": "#E5ECF6",
           "caxis": {
            "gridcolor": "white",
            "linecolor": "white",
            "ticks": ""
           }
          },
          "title": {
           "x": 0.05
          },
          "xaxis": {
           "automargin": true,
           "gridcolor": "white",
           "linecolor": "white",
           "ticks": "",
           "title": {
            "standoff": 15
           },
           "zerolinecolor": "white",
           "zerolinewidth": 2
          },
          "yaxis": {
           "automargin": true,
           "gridcolor": "white",
           "linecolor": "white",
           "ticks": "",
           "title": {
            "standoff": 15
           },
           "zerolinecolor": "white",
           "zerolinewidth": 2
          }
         }
        },
        "title": {
         "text": "Energy_Production"
        },
        "xaxis": {
         "anchor": "y",
         "domain": [
          0,
          1
         ],
         "rangeselector": {
          "buttons": [
           {
            "count": 1,
            "label": "1m",
            "step": "month",
            "stepmode": "backward"
           },
           {
            "count": 2,
            "label": "6m",
            "step": "month",
            "stepmode": "backward"
           },
           {
            "count": 3,
            "label": "6mYTD",
            "step": "month",
            "stepmode": "todate"
           },
           {
            "count": 4,
            "label": "2y",
            "step": "year",
            "stepmode": "backward"
           },
           {
            "count": 5,
            "label": "3y",
            "step": "year",
            "stepmode": "backward"
           },
           {
            "step": "all"
           }
          ]
         },
         "rangeslider": {
          "visible": true
         },
         "title": {
          "text": "Date"
         }
        },
        "yaxis": {
         "anchor": "x",
         "domain": [
          0,
          1
         ],
         "title": {
          "text": "Energy Production"
         }
        }
       }
      },
      "text/html": [
       "<div>\n",
       "        \n",
       "        \n",
       "            <div id=\"9f5ae964-abb0-44b1-a353-b1f4d8bb3281\" class=\"plotly-graph-div\" style=\"height:525px; width:100%;\"></div>\n",
       "            <script type=\"text/javascript\">\n",
       "                require([\"plotly\"], function(Plotly) {\n",
       "                    window.PLOTLYENV=window.PLOTLYENV || {};\n",
       "                    \n",
       "                if (document.getElementById(\"9f5ae964-abb0-44b1-a353-b1f4d8bb3281\")) {\n",
       "                    Plotly.newPlot(\n",
       "                        '9f5ae964-abb0-44b1-a353-b1f4d8bb3281',\n",
       "                        [{\"hoverlabel\": {\"namelength\": 0}, \"hovertemplate\": \"Date=%{x}<br>Energy Production=%{y}\", \"legendgroup\": \"\", \"line\": {\"color\": \"#636efa\", \"dash\": \"solid\"}, \"mode\": \"lines\", \"name\": \"\", \"showlegend\": false, \"type\": \"scatter\", \"x\": [\"1939-01-01T00:00:00\", \"1939-02-01T00:00:00\", \"1939-03-01T00:00:00\", \"1939-04-01T00:00:00\", \"1939-05-01T00:00:00\", \"1939-06-01T00:00:00\", \"1939-07-01T00:00:00\", \"1939-08-01T00:00:00\", \"1939-09-01T00:00:00\", \"1939-10-01T00:00:00\", \"1939-11-01T00:00:00\", \"1939-12-01T00:00:00\", \"1940-01-01T00:00:00\", \"1940-02-01T00:00:00\", \"1940-03-01T00:00:00\", \"1940-04-01T00:00:00\", \"1940-05-01T00:00:00\", \"1940-06-01T00:00:00\", \"1940-07-01T00:00:00\", \"1940-08-01T00:00:00\", \"1940-09-01T00:00:00\", \"1940-10-01T00:00:00\", \"1940-11-01T00:00:00\", \"1940-12-01T00:00:00\", \"1941-01-01T00:00:00\", \"1941-02-01T00:00:00\", \"1941-03-01T00:00:00\", \"1941-04-01T00:00:00\", \"1941-05-01T00:00:00\", \"1941-06-01T00:00:00\", \"1941-07-01T00:00:00\", \"1941-08-01T00:00:00\", \"1941-09-01T00:00:00\", \"1941-10-01T00:00:00\", \"1941-11-01T00:00:00\", \"1941-12-01T00:00:00\", \"1942-01-01T00:00:00\", \"1942-02-01T00:00:00\", \"1942-03-01T00:00:00\", \"1942-04-01T00:00:00\", \"1942-05-01T00:00:00\", \"1942-06-01T00:00:00\", \"1942-07-01T00:00:00\", \"1942-08-01T00:00:00\", \"1942-09-01T00:00:00\", \"1942-10-01T00:00:00\", \"1942-11-01T00:00:00\", \"1942-12-01T00:00:00\", \"1943-01-01T00:00:00\", \"1943-02-01T00:00:00\", \"1943-03-01T00:00:00\", \"1943-04-01T00:00:00\", \"1943-05-01T00:00:00\", \"1943-06-01T00:00:00\", \"1943-07-01T00:00:00\", \"1943-08-01T00:00:00\", \"1943-09-01T00:00:00\", \"1943-10-01T00:00:00\", \"1943-11-01T00:00:00\", \"1943-12-01T00:00:00\", \"1944-01-01T00:00:00\", \"1944-02-01T00:00:00\", \"1944-03-01T00:00:00\", \"1944-04-01T00:00:00\", \"1944-05-01T00:00:00\", \"1944-06-01T00:00:00\", \"1944-07-01T00:00:00\", \"1944-08-01T00:00:00\", \"1944-09-01T00:00:00\", \"1944-10-01T00:00:00\", \"1944-11-01T00:00:00\", \"1944-12-01T00:00:00\", \"1945-01-01T00:00:00\", \"1945-02-01T00:00:00\", \"1945-03-01T00:00:00\", \"1945-04-01T00:00:00\", \"1945-05-01T00:00:00\", \"1945-06-01T00:00:00\", \"1945-07-01T00:00:00\", \"1945-08-01T00:00:00\", \"1945-09-01T00:00:00\", \"1945-10-01T00:00:00\", \"1945-11-01T00:00:00\", \"1945-12-01T00:00:00\", \"1946-01-01T00:00:00\", \"1946-02-01T00:00:00\", \"1946-03-01T00:00:00\", \"1946-04-01T00:00:00\", \"1946-05-01T00:00:00\", \"1946-06-01T00:00:00\", \"1946-07-01T00:00:00\", \"1946-08-01T00:00:00\", \"1946-09-01T00:00:00\", \"1946-10-01T00:00:00\", \"1946-11-01T00:00:00\", \"1946-12-01T00:00:00\", \"1947-01-01T00:00:00\", \"1947-02-01T00:00:00\", \"1947-03-01T00:00:00\", \"1947-04-01T00:00:00\", \"1947-05-01T00:00:00\", \"1947-06-01T00:00:00\", \"1947-07-01T00:00:00\", \"1947-08-01T00:00:00\", \"1947-09-01T00:00:00\", \"1947-10-01T00:00:00\", \"1947-11-01T00:00:00\", \"1947-12-01T00:00:00\", \"1948-01-01T00:00:00\", \"1948-02-01T00:00:00\", \"1948-03-01T00:00:00\", \"1948-04-01T00:00:00\", \"1948-05-01T00:00:00\", \"1948-06-01T00:00:00\", \"1948-07-01T00:00:00\", \"1948-08-01T00:00:00\", \"1948-09-01T00:00:00\", \"1948-10-01T00:00:00\", \"1948-11-01T00:00:00\", \"1948-12-01T00:00:00\", \"1949-01-01T00:00:00\", \"1949-02-01T00:00:00\", \"1949-03-01T00:00:00\", \"1949-04-01T00:00:00\", \"1949-05-01T00:00:00\", \"1949-06-01T00:00:00\", \"1949-07-01T00:00:00\", \"1949-08-01T00:00:00\", \"1949-09-01T00:00:00\", \"1949-10-01T00:00:00\", \"1949-11-01T00:00:00\", \"1949-12-01T00:00:00\", \"1950-01-01T00:00:00\", \"1950-02-01T00:00:00\", \"1950-03-01T00:00:00\", \"1950-04-01T00:00:00\", \"1950-05-01T00:00:00\", \"1950-06-01T00:00:00\", \"1950-07-01T00:00:00\", \"1950-08-01T00:00:00\", \"1950-09-01T00:00:00\", \"1950-10-01T00:00:00\", \"1950-11-01T00:00:00\", \"1950-12-01T00:00:00\", \"1951-01-01T00:00:00\", \"1951-02-01T00:00:00\", \"1951-03-01T00:00:00\", \"1951-04-01T00:00:00\", \"1951-05-01T00:00:00\", \"1951-06-01T00:00:00\", \"1951-07-01T00:00:00\", \"1951-08-01T00:00:00\", \"1951-09-01T00:00:00\", \"1951-10-01T00:00:00\", \"1951-11-01T00:00:00\", \"1951-12-01T00:00:00\", \"1952-01-01T00:00:00\", \"1952-02-01T00:00:00\", \"1952-03-01T00:00:00\", \"1952-04-01T00:00:00\", \"1952-05-01T00:00:00\", \"1952-06-01T00:00:00\", \"1952-07-01T00:00:00\", \"1952-08-01T00:00:00\", \"1952-09-01T00:00:00\", \"1952-10-01T00:00:00\", \"1952-11-01T00:00:00\", \"1952-12-01T00:00:00\", \"1953-01-01T00:00:00\", \"1953-02-01T00:00:00\", \"1953-03-01T00:00:00\", \"1953-04-01T00:00:00\", \"1953-05-01T00:00:00\", \"1953-06-01T00:00:00\", \"1953-07-01T00:00:00\", \"1953-08-01T00:00:00\", \"1953-09-01T00:00:00\", \"1953-10-01T00:00:00\", \"1953-11-01T00:00:00\", \"1953-12-01T00:00:00\", \"1954-01-01T00:00:00\", \"1954-02-01T00:00:00\", \"1954-03-01T00:00:00\", \"1954-04-01T00:00:00\", \"1954-05-01T00:00:00\", \"1954-06-01T00:00:00\", \"1954-07-01T00:00:00\", \"1954-08-01T00:00:00\", \"1954-09-01T00:00:00\", \"1954-10-01T00:00:00\", \"1954-11-01T00:00:00\", \"1954-12-01T00:00:00\", \"1955-01-01T00:00:00\", \"1955-02-01T00:00:00\", \"1955-03-01T00:00:00\", \"1955-04-01T00:00:00\", \"1955-05-01T00:00:00\", \"1955-06-01T00:00:00\", \"1955-07-01T00:00:00\", \"1955-08-01T00:00:00\", \"1955-09-01T00:00:00\", \"1955-10-01T00:00:00\", \"1955-11-01T00:00:00\", \"1955-12-01T00:00:00\", \"1956-01-01T00:00:00\", \"1956-02-01T00:00:00\", \"1956-03-01T00:00:00\", \"1956-04-01T00:00:00\", \"1956-05-01T00:00:00\", \"1956-06-01T00:00:00\", \"1956-07-01T00:00:00\", \"1956-08-01T00:00:00\", \"1956-09-01T00:00:00\", \"1956-10-01T00:00:00\", \"1956-11-01T00:00:00\", \"1956-12-01T00:00:00\", \"1957-01-01T00:00:00\", \"1957-02-01T00:00:00\", \"1957-03-01T00:00:00\", \"1957-04-01T00:00:00\", \"1957-05-01T00:00:00\", \"1957-06-01T00:00:00\", \"1957-07-01T00:00:00\", \"1957-08-01T00:00:00\", \"1957-09-01T00:00:00\", \"1957-10-01T00:00:00\", \"1957-11-01T00:00:00\", \"1957-12-01T00:00:00\", \"1958-01-01T00:00:00\", \"1958-02-01T00:00:00\", \"1958-03-01T00:00:00\", \"1958-04-01T00:00:00\", \"1958-05-01T00:00:00\", \"1958-06-01T00:00:00\", \"1958-07-01T00:00:00\", \"1958-08-01T00:00:00\", \"1958-09-01T00:00:00\", \"1958-10-01T00:00:00\", \"1958-11-01T00:00:00\", \"1958-12-01T00:00:00\", \"1959-01-01T00:00:00\", \"1959-02-01T00:00:00\", \"1959-03-01T00:00:00\", \"1959-04-01T00:00:00\", \"1959-05-01T00:00:00\", \"1959-06-01T00:00:00\", \"1959-07-01T00:00:00\", \"1959-08-01T00:00:00\", \"1959-09-01T00:00:00\", \"1959-10-01T00:00:00\", \"1959-11-01T00:00:00\", \"1959-12-01T00:00:00\", \"1960-01-01T00:00:00\", \"1960-02-01T00:00:00\", \"1960-03-01T00:00:00\", \"1960-04-01T00:00:00\", \"1960-05-01T00:00:00\", \"1960-06-01T00:00:00\", \"1960-07-01T00:00:00\", \"1960-08-01T00:00:00\", \"1960-09-01T00:00:00\", \"1960-10-01T00:00:00\", \"1960-11-01T00:00:00\", \"1960-12-01T00:00:00\", \"1961-01-01T00:00:00\", \"1961-02-01T00:00:00\", \"1961-03-01T00:00:00\", \"1961-04-01T00:00:00\", \"1961-05-01T00:00:00\", \"1961-06-01T00:00:00\", \"1961-07-01T00:00:00\", \"1961-08-01T00:00:00\", \"1961-09-01T00:00:00\", \"1961-10-01T00:00:00\", \"1961-11-01T00:00:00\", \"1961-12-01T00:00:00\", \"1962-01-01T00:00:00\", \"1962-02-01T00:00:00\", \"1962-03-01T00:00:00\", \"1962-04-01T00:00:00\", \"1962-05-01T00:00:00\", \"1962-06-01T00:00:00\", \"1962-07-01T00:00:00\", \"1962-08-01T00:00:00\", \"1962-09-01T00:00:00\", \"1962-10-01T00:00:00\", \"1962-11-01T00:00:00\", \"1962-12-01T00:00:00\", \"1963-01-01T00:00:00\", \"1963-02-01T00:00:00\", \"1963-03-01T00:00:00\", \"1963-04-01T00:00:00\", \"1963-05-01T00:00:00\", \"1963-06-01T00:00:00\", \"1963-07-01T00:00:00\", \"1963-08-01T00:00:00\", \"1963-09-01T00:00:00\", \"1963-10-01T00:00:00\", \"1963-11-01T00:00:00\", \"1963-12-01T00:00:00\", \"1964-01-01T00:00:00\", \"1964-02-01T00:00:00\", \"1964-03-01T00:00:00\", \"1964-04-01T00:00:00\", \"1964-05-01T00:00:00\", \"1964-06-01T00:00:00\", \"1964-07-01T00:00:00\", \"1964-08-01T00:00:00\", \"1964-09-01T00:00:00\", \"1964-10-01T00:00:00\", \"1964-11-01T00:00:00\", \"1964-12-01T00:00:00\", \"1965-01-01T00:00:00\", \"1965-02-01T00:00:00\", \"1965-03-01T00:00:00\", \"1965-04-01T00:00:00\", \"1965-05-01T00:00:00\", \"1965-06-01T00:00:00\", \"1965-07-01T00:00:00\", \"1965-08-01T00:00:00\", \"1965-09-01T00:00:00\", \"1965-10-01T00:00:00\", \"1965-11-01T00:00:00\", \"1965-12-01T00:00:00\", \"1966-01-01T00:00:00\", \"1966-02-01T00:00:00\", \"1966-03-01T00:00:00\", \"1966-04-01T00:00:00\", \"1966-05-01T00:00:00\", \"1966-06-01T00:00:00\", \"1966-07-01T00:00:00\", \"1966-08-01T00:00:00\", \"1966-09-01T00:00:00\", \"1966-10-01T00:00:00\", \"1966-11-01T00:00:00\", \"1966-12-01T00:00:00\", \"1967-01-01T00:00:00\", \"1967-02-01T00:00:00\", \"1967-03-01T00:00:00\", \"1967-04-01T00:00:00\", \"1967-05-01T00:00:00\", \"1967-06-01T00:00:00\", \"1967-07-01T00:00:00\", \"1967-08-01T00:00:00\", \"1967-09-01T00:00:00\", \"1967-10-01T00:00:00\", \"1967-11-01T00:00:00\", \"1967-12-01T00:00:00\", \"1968-01-01T00:00:00\", \"1968-02-01T00:00:00\", \"1968-03-01T00:00:00\", \"1968-04-01T00:00:00\", \"1968-05-01T00:00:00\", \"1968-06-01T00:00:00\", \"1968-07-01T00:00:00\", \"1968-08-01T00:00:00\", \"1968-09-01T00:00:00\", \"1968-10-01T00:00:00\", \"1968-11-01T00:00:00\", \"1968-12-01T00:00:00\", \"1969-01-01T00:00:00\", \"1969-02-01T00:00:00\", \"1969-03-01T00:00:00\", \"1969-04-01T00:00:00\", \"1969-05-01T00:00:00\", \"1969-06-01T00:00:00\", \"1969-07-01T00:00:00\", \"1969-08-01T00:00:00\", \"1969-09-01T00:00:00\", \"1969-10-01T00:00:00\", \"1969-11-01T00:00:00\", \"1969-12-01T00:00:00\", \"1970-01-01T00:00:00\", \"1970-02-01T00:00:00\", \"1970-03-01T00:00:00\", \"1970-04-01T00:00:00\", \"1970-05-01T00:00:00\", \"1970-06-01T00:00:00\", \"1970-07-01T00:00:00\", \"1970-08-01T00:00:00\", \"1970-09-01T00:00:00\", \"1970-10-01T00:00:00\", \"1970-11-01T00:00:00\", \"1970-12-01T00:00:00\", \"1971-01-01T00:00:00\", \"1971-02-01T00:00:00\", \"1971-03-01T00:00:00\", \"1971-04-01T00:00:00\", \"1971-05-01T00:00:00\", \"1971-06-01T00:00:00\", \"1971-07-01T00:00:00\", \"1971-08-01T00:00:00\", \"1971-09-01T00:00:00\", \"1971-10-01T00:00:00\", \"1971-11-01T00:00:00\", \"1971-12-01T00:00:00\", \"1972-01-01T00:00:00\", \"1972-02-01T00:00:00\", \"1972-03-01T00:00:00\", \"1972-04-01T00:00:00\", \"1972-05-01T00:00:00\", \"1972-06-01T00:00:00\", \"1972-07-01T00:00:00\", \"1972-08-01T00:00:00\", \"1972-09-01T00:00:00\", \"1972-10-01T00:00:00\", \"1972-11-01T00:00:00\", \"1972-12-01T00:00:00\", \"1973-01-01T00:00:00\", \"1973-02-01T00:00:00\", \"1973-03-01T00:00:00\", \"1973-04-01T00:00:00\", \"1973-05-01T00:00:00\", \"1973-06-01T00:00:00\", \"1973-07-01T00:00:00\", \"1973-08-01T00:00:00\", \"1973-09-01T00:00:00\", \"1973-10-01T00:00:00\", \"1973-11-01T00:00:00\", \"1973-12-01T00:00:00\", \"1974-01-01T00:00:00\", \"1974-02-01T00:00:00\", \"1974-03-01T00:00:00\", \"1974-04-01T00:00:00\", \"1974-05-01T00:00:00\", \"1974-06-01T00:00:00\", \"1974-07-01T00:00:00\", \"1974-08-01T00:00:00\", \"1974-09-01T00:00:00\", \"1974-10-01T00:00:00\", \"1974-11-01T00:00:00\", \"1974-12-01T00:00:00\", \"1975-01-01T00:00:00\", \"1975-02-01T00:00:00\", \"1975-03-01T00:00:00\", \"1975-04-01T00:00:00\", \"1975-05-01T00:00:00\", \"1975-06-01T00:00:00\", \"1975-07-01T00:00:00\", \"1975-08-01T00:00:00\", \"1975-09-01T00:00:00\", \"1975-10-01T00:00:00\", \"1975-11-01T00:00:00\", \"1975-12-01T00:00:00\", \"1976-01-01T00:00:00\", \"1976-02-01T00:00:00\", \"1976-03-01T00:00:00\", \"1976-04-01T00:00:00\", \"1976-05-01T00:00:00\", \"1976-06-01T00:00:00\", \"1976-07-01T00:00:00\", \"1976-08-01T00:00:00\", \"1976-09-01T00:00:00\", \"1976-10-01T00:00:00\", \"1976-11-01T00:00:00\", \"1976-12-01T00:00:00\", \"1977-01-01T00:00:00\", \"1977-02-01T00:00:00\", \"1977-03-01T00:00:00\", \"1977-04-01T00:00:00\", \"1977-05-01T00:00:00\", \"1977-06-01T00:00:00\", \"1977-07-01T00:00:00\", \"1977-08-01T00:00:00\", \"1977-09-01T00:00:00\", \"1977-10-01T00:00:00\", \"1977-11-01T00:00:00\", \"1977-12-01T00:00:00\", \"1978-01-01T00:00:00\", \"1978-02-01T00:00:00\", \"1978-03-01T00:00:00\", \"1978-04-01T00:00:00\", \"1978-05-01T00:00:00\", \"1978-06-01T00:00:00\", \"1978-07-01T00:00:00\", \"1978-08-01T00:00:00\", \"1978-09-01T00:00:00\", \"1978-10-01T00:00:00\", \"1978-11-01T00:00:00\", \"1978-12-01T00:00:00\", \"1979-01-01T00:00:00\", \"1979-02-01T00:00:00\", \"1979-03-01T00:00:00\", \"1979-04-01T00:00:00\", \"1979-05-01T00:00:00\", \"1979-06-01T00:00:00\", \"1979-07-01T00:00:00\", \"1979-08-01T00:00:00\", \"1979-09-01T00:00:00\", \"1979-10-01T00:00:00\", \"1979-11-01T00:00:00\", \"1979-12-01T00:00:00\", \"1980-01-01T00:00:00\", \"1980-02-01T00:00:00\", \"1980-03-01T00:00:00\", \"1980-04-01T00:00:00\", \"1980-05-01T00:00:00\", \"1980-06-01T00:00:00\", \"1980-07-01T00:00:00\", \"1980-08-01T00:00:00\", \"1980-09-01T00:00:00\", \"1980-10-01T00:00:00\", \"1980-11-01T00:00:00\", \"1980-12-01T00:00:00\", \"1981-01-01T00:00:00\", \"1981-02-01T00:00:00\", \"1981-03-01T00:00:00\", \"1981-04-01T00:00:00\", \"1981-05-01T00:00:00\", \"1981-06-01T00:00:00\", \"1981-07-01T00:00:00\", \"1981-08-01T00:00:00\", \"1981-09-01T00:00:00\", \"1981-10-01T00:00:00\", \"1981-11-01T00:00:00\", \"1981-12-01T00:00:00\", \"1982-01-01T00:00:00\", \"1982-02-01T00:00:00\", \"1982-03-01T00:00:00\", \"1982-04-01T00:00:00\", \"1982-05-01T00:00:00\", \"1982-06-01T00:00:00\", \"1982-07-01T00:00:00\", \"1982-08-01T00:00:00\", \"1982-09-01T00:00:00\", \"1982-10-01T00:00:00\", \"1982-11-01T00:00:00\", \"1982-12-01T00:00:00\", \"1983-01-01T00:00:00\", \"1983-02-01T00:00:00\", \"1983-03-01T00:00:00\", \"1983-04-01T00:00:00\", \"1983-05-01T00:00:00\", \"1983-06-01T00:00:00\", \"1983-07-01T00:00:00\", \"1983-08-01T00:00:00\", \"1983-09-01T00:00:00\", \"1983-10-01T00:00:00\", \"1983-11-01T00:00:00\", \"1983-12-01T00:00:00\", \"1984-01-01T00:00:00\", \"1984-02-01T00:00:00\", \"1984-03-01T00:00:00\", \"1984-04-01T00:00:00\", \"1984-05-01T00:00:00\", \"1984-06-01T00:00:00\", \"1984-07-01T00:00:00\", \"1984-08-01T00:00:00\", \"1984-09-01T00:00:00\", \"1984-10-01T00:00:00\", \"1984-11-01T00:00:00\", \"1984-12-01T00:00:00\", \"1985-01-01T00:00:00\", \"1985-02-01T00:00:00\", \"1985-03-01T00:00:00\", \"1985-04-01T00:00:00\", \"1985-05-01T00:00:00\", \"1985-06-01T00:00:00\", \"1985-07-01T00:00:00\", \"1985-08-01T00:00:00\", \"1985-09-01T00:00:00\", \"1985-10-01T00:00:00\", \"1985-11-01T00:00:00\", \"1985-12-01T00:00:00\", \"1986-01-01T00:00:00\", \"1986-02-01T00:00:00\", \"1986-03-01T00:00:00\", \"1986-04-01T00:00:00\", \"1986-05-01T00:00:00\", \"1986-06-01T00:00:00\", \"1986-07-01T00:00:00\", \"1986-08-01T00:00:00\", \"1986-09-01T00:00:00\", \"1986-10-01T00:00:00\", \"1986-11-01T00:00:00\", \"1986-12-01T00:00:00\", \"1987-01-01T00:00:00\", \"1987-02-01T00:00:00\", \"1987-03-01T00:00:00\", \"1987-04-01T00:00:00\", \"1987-05-01T00:00:00\", \"1987-06-01T00:00:00\", \"1987-07-01T00:00:00\", \"1987-08-01T00:00:00\", \"1987-09-01T00:00:00\", \"1987-10-01T00:00:00\", \"1987-11-01T00:00:00\", \"1987-12-01T00:00:00\", \"1988-01-01T00:00:00\", \"1988-02-01T00:00:00\", \"1988-03-01T00:00:00\", \"1988-04-01T00:00:00\", \"1988-05-01T00:00:00\", \"1988-06-01T00:00:00\", \"1988-07-01T00:00:00\", \"1988-08-01T00:00:00\", \"1988-09-01T00:00:00\", \"1988-10-01T00:00:00\", \"1988-11-01T00:00:00\", \"1988-12-01T00:00:00\", \"1989-01-01T00:00:00\", \"1989-02-01T00:00:00\", \"1989-03-01T00:00:00\", \"1989-04-01T00:00:00\", \"1989-05-01T00:00:00\", \"1989-06-01T00:00:00\", \"1989-07-01T00:00:00\", \"1989-08-01T00:00:00\", \"1989-09-01T00:00:00\", \"1989-10-01T00:00:00\", \"1989-11-01T00:00:00\", \"1989-12-01T00:00:00\", \"1990-01-01T00:00:00\", \"1990-02-01T00:00:00\", \"1990-03-01T00:00:00\", \"1990-04-01T00:00:00\", \"1990-05-01T00:00:00\", \"1990-06-01T00:00:00\", \"1990-07-01T00:00:00\", \"1990-08-01T00:00:00\", \"1990-09-01T00:00:00\", \"1990-10-01T00:00:00\", \"1990-11-01T00:00:00\", \"1990-12-01T00:00:00\", \"1991-01-01T00:00:00\", \"1991-02-01T00:00:00\", \"1991-03-01T00:00:00\", \"1991-04-01T00:00:00\", \"1991-05-01T00:00:00\", \"1991-06-01T00:00:00\", \"1991-07-01T00:00:00\", \"1991-08-01T00:00:00\", \"1991-09-01T00:00:00\", \"1991-10-01T00:00:00\", \"1991-11-01T00:00:00\", \"1991-12-01T00:00:00\", \"1992-01-01T00:00:00\", \"1992-02-01T00:00:00\", \"1992-03-01T00:00:00\", \"1992-04-01T00:00:00\", \"1992-05-01T00:00:00\", \"1992-06-01T00:00:00\", \"1992-07-01T00:00:00\", \"1992-08-01T00:00:00\", \"1992-09-01T00:00:00\", \"1992-10-01T00:00:00\", \"1992-11-01T00:00:00\", \"1992-12-01T00:00:00\", \"1993-01-01T00:00:00\", \"1993-02-01T00:00:00\", \"1993-03-01T00:00:00\", \"1993-04-01T00:00:00\", \"1993-05-01T00:00:00\", \"1993-06-01T00:00:00\", \"1993-07-01T00:00:00\", \"1993-08-01T00:00:00\", \"1993-09-01T00:00:00\", \"1993-10-01T00:00:00\", \"1993-11-01T00:00:00\", \"1993-12-01T00:00:00\", \"1994-01-01T00:00:00\", \"1994-02-01T00:00:00\", \"1994-03-01T00:00:00\", \"1994-04-01T00:00:00\", \"1994-05-01T00:00:00\", \"1994-06-01T00:00:00\", \"1994-07-01T00:00:00\", \"1994-08-01T00:00:00\", \"1994-09-01T00:00:00\", \"1994-10-01T00:00:00\", \"1994-11-01T00:00:00\", \"1994-12-01T00:00:00\", \"1995-01-01T00:00:00\", \"1995-02-01T00:00:00\", \"1995-03-01T00:00:00\", \"1995-04-01T00:00:00\", \"1995-05-01T00:00:00\", \"1995-06-01T00:00:00\", \"1995-07-01T00:00:00\", \"1995-08-01T00:00:00\", \"1995-09-01T00:00:00\", \"1995-10-01T00:00:00\", \"1995-11-01T00:00:00\", \"1995-12-01T00:00:00\", \"1996-01-01T00:00:00\", \"1996-02-01T00:00:00\", \"1996-03-01T00:00:00\", \"1996-04-01T00:00:00\", \"1996-05-01T00:00:00\", \"1996-06-01T00:00:00\", \"1996-07-01T00:00:00\", \"1996-08-01T00:00:00\", \"1996-09-01T00:00:00\", \"1996-10-01T00:00:00\", \"1996-11-01T00:00:00\", \"1996-12-01T00:00:00\", \"1997-01-01T00:00:00\", \"1997-02-01T00:00:00\", \"1997-03-01T00:00:00\", \"1997-04-01T00:00:00\", \"1997-05-01T00:00:00\", \"1997-06-01T00:00:00\", \"1997-07-01T00:00:00\", \"1997-08-01T00:00:00\", \"1997-09-01T00:00:00\", \"1997-10-01T00:00:00\", \"1997-11-01T00:00:00\", \"1997-12-01T00:00:00\", \"1998-01-01T00:00:00\", \"1998-02-01T00:00:00\", \"1998-03-01T00:00:00\", \"1998-04-01T00:00:00\", \"1998-05-01T00:00:00\", \"1998-06-01T00:00:00\", \"1998-07-01T00:00:00\", \"1998-08-01T00:00:00\", \"1998-09-01T00:00:00\", \"1998-10-01T00:00:00\", \"1998-11-01T00:00:00\", \"1998-12-01T00:00:00\", \"1999-01-01T00:00:00\", \"1999-02-01T00:00:00\", \"1999-03-01T00:00:00\", \"1999-04-01T00:00:00\", \"1999-05-01T00:00:00\", \"1999-06-01T00:00:00\", \"1999-07-01T00:00:00\", \"1999-08-01T00:00:00\", \"1999-09-01T00:00:00\", \"1999-10-01T00:00:00\", \"1999-11-01T00:00:00\", \"1999-12-01T00:00:00\", \"2000-01-01T00:00:00\", \"2000-02-01T00:00:00\", \"2000-03-01T00:00:00\", \"2000-04-01T00:00:00\", \"2000-05-01T00:00:00\", \"2000-06-01T00:00:00\", \"2000-07-01T00:00:00\", \"2000-08-01T00:00:00\", \"2000-09-01T00:00:00\", \"2000-10-01T00:00:00\", \"2000-11-01T00:00:00\", \"2000-12-01T00:00:00\", \"2001-01-01T00:00:00\", \"2001-02-01T00:00:00\", \"2001-03-01T00:00:00\", \"2001-04-01T00:00:00\", \"2001-05-01T00:00:00\", \"2001-06-01T00:00:00\", \"2001-07-01T00:00:00\", \"2001-08-01T00:00:00\", \"2001-09-01T00:00:00\", \"2001-10-01T00:00:00\", \"2001-11-01T00:00:00\", \"2001-12-01T00:00:00\", \"2002-01-01T00:00:00\", \"2002-02-01T00:00:00\", \"2002-03-01T00:00:00\", \"2002-04-01T00:00:00\", \"2002-05-01T00:00:00\", \"2002-06-01T00:00:00\", \"2002-07-01T00:00:00\", \"2002-08-01T00:00:00\", \"2002-09-01T00:00:00\", \"2002-10-01T00:00:00\", \"2002-11-01T00:00:00\", \"2002-12-01T00:00:00\", \"2003-01-01T00:00:00\", \"2003-02-01T00:00:00\", \"2003-03-01T00:00:00\", \"2003-04-01T00:00:00\", \"2003-05-01T00:00:00\", \"2003-06-01T00:00:00\", \"2003-07-01T00:00:00\", \"2003-08-01T00:00:00\", \"2003-09-01T00:00:00\", \"2003-10-01T00:00:00\", \"2003-11-01T00:00:00\", \"2003-12-01T00:00:00\", \"2004-01-01T00:00:00\", \"2004-02-01T00:00:00\", \"2004-03-01T00:00:00\", \"2004-04-01T00:00:00\", \"2004-05-01T00:00:00\", \"2004-06-01T00:00:00\", \"2004-07-01T00:00:00\", \"2004-08-01T00:00:00\", \"2004-09-01T00:00:00\", \"2004-10-01T00:00:00\", \"2004-11-01T00:00:00\", \"2004-12-01T00:00:00\", \"2005-01-01T00:00:00\", \"2005-02-01T00:00:00\", \"2005-03-01T00:00:00\", \"2005-04-01T00:00:00\", \"2005-05-01T00:00:00\", \"2005-06-01T00:00:00\", \"2005-07-01T00:00:00\", \"2005-08-01T00:00:00\", \"2005-09-01T00:00:00\", \"2005-10-01T00:00:00\", \"2005-11-01T00:00:00\", \"2005-12-01T00:00:00\", \"2006-01-01T00:00:00\", \"2006-02-01T00:00:00\", \"2006-03-01T00:00:00\", \"2006-04-01T00:00:00\", \"2006-05-01T00:00:00\", \"2006-06-01T00:00:00\", \"2006-07-01T00:00:00\", \"2006-08-01T00:00:00\", \"2006-09-01T00:00:00\", \"2006-10-01T00:00:00\", \"2006-11-01T00:00:00\", \"2006-12-01T00:00:00\", \"2007-01-01T00:00:00\", \"2007-02-01T00:00:00\", \"2007-03-01T00:00:00\", \"2007-04-01T00:00:00\", \"2007-05-01T00:00:00\", \"2007-06-01T00:00:00\", \"2007-07-01T00:00:00\", \"2007-08-01T00:00:00\", \"2007-09-01T00:00:00\", \"2007-10-01T00:00:00\", \"2007-11-01T00:00:00\", \"2007-12-01T00:00:00\", \"2008-01-01T00:00:00\", \"2008-02-01T00:00:00\", \"2008-03-01T00:00:00\", \"2008-04-01T00:00:00\", \"2008-05-01T00:00:00\", \"2008-06-01T00:00:00\", \"2008-07-01T00:00:00\", \"2008-08-01T00:00:00\", \"2008-09-01T00:00:00\", \"2008-10-01T00:00:00\", \"2008-11-01T00:00:00\", \"2008-12-01T00:00:00\", \"2009-01-01T00:00:00\", \"2009-02-01T00:00:00\", \"2009-03-01T00:00:00\", \"2009-04-01T00:00:00\", \"2009-05-01T00:00:00\", \"2009-06-01T00:00:00\", \"2009-07-01T00:00:00\", \"2009-08-01T00:00:00\", \"2009-09-01T00:00:00\", \"2009-10-01T00:00:00\", \"2009-11-01T00:00:00\", \"2009-12-01T00:00:00\", \"2010-01-01T00:00:00\", \"2010-02-01T00:00:00\", \"2010-03-01T00:00:00\", \"2010-04-01T00:00:00\", \"2010-05-01T00:00:00\", \"2010-06-01T00:00:00\", \"2010-07-01T00:00:00\", \"2010-08-01T00:00:00\", \"2010-09-01T00:00:00\", \"2010-10-01T00:00:00\", \"2010-11-01T00:00:00\", \"2010-12-01T00:00:00\", \"2011-01-01T00:00:00\", \"2011-02-01T00:00:00\", \"2011-03-01T00:00:00\", \"2011-04-01T00:00:00\", \"2011-05-01T00:00:00\", \"2011-06-01T00:00:00\", \"2011-07-01T00:00:00\", \"2011-08-01T00:00:00\", \"2011-09-01T00:00:00\", \"2011-10-01T00:00:00\", \"2011-11-01T00:00:00\", \"2011-12-01T00:00:00\", \"2012-01-01T00:00:00\", \"2012-02-01T00:00:00\", \"2012-03-01T00:00:00\", \"2012-04-01T00:00:00\", \"2012-05-01T00:00:00\", \"2012-06-01T00:00:00\", \"2012-07-01T00:00:00\", \"2012-08-01T00:00:00\", \"2012-09-01T00:00:00\", \"2012-10-01T00:00:00\", \"2012-11-01T00:00:00\", \"2012-12-01T00:00:00\", \"2013-01-01T00:00:00\", \"2013-02-01T00:00:00\", \"2013-03-01T00:00:00\", \"2013-04-01T00:00:00\", \"2013-05-01T00:00:00\", \"2013-06-01T00:00:00\", \"2013-07-01T00:00:00\", \"2013-08-01T00:00:00\", \"2013-09-01T00:00:00\", \"2013-10-01T00:00:00\", \"2013-11-01T00:00:00\", \"2013-12-01T00:00:00\", \"2014-01-01T00:00:00\", \"2014-02-01T00:00:00\", \"2014-03-01T00:00:00\", \"2014-04-01T00:00:00\", \"2014-05-01T00:00:00\", \"2014-06-01T00:00:00\", \"2014-07-01T00:00:00\", \"2014-08-01T00:00:00\", \"2014-09-01T00:00:00\", \"2014-10-01T00:00:00\", \"2014-11-01T00:00:00\", \"2014-12-01T00:00:00\", \"2015-01-01T00:00:00\", \"2015-02-01T00:00:00\", \"2015-03-01T00:00:00\", \"2015-04-01T00:00:00\", \"2015-05-01T00:00:00\", \"2015-06-01T00:00:00\", \"2015-07-01T00:00:00\", \"2015-08-01T00:00:00\", \"2015-09-01T00:00:00\", \"2015-10-01T00:00:00\", \"2015-11-01T00:00:00\", \"2015-12-01T00:00:00\", \"2016-01-01T00:00:00\", \"2016-02-01T00:00:00\", \"2016-03-01T00:00:00\", \"2016-04-01T00:00:00\", \"2016-05-01T00:00:00\", \"2016-06-01T00:00:00\", \"2016-07-01T00:00:00\", \"2016-08-01T00:00:00\", \"2016-09-01T00:00:00\", \"2016-10-01T00:00:00\", \"2016-11-01T00:00:00\", \"2016-12-01T00:00:00\", \"2017-01-01T00:00:00\", \"2017-02-01T00:00:00\", \"2017-03-01T00:00:00\", \"2017-04-01T00:00:00\", \"2017-05-01T00:00:00\", \"2017-06-01T00:00:00\", \"2017-07-01T00:00:00\", \"2017-08-01T00:00:00\", \"2017-09-01T00:00:00\", \"2017-10-01T00:00:00\", \"2017-11-01T00:00:00\", \"2017-12-01T00:00:00\", \"2018-01-01T00:00:00\", \"2018-02-01T00:00:00\", \"2018-03-01T00:00:00\", \"2018-04-01T00:00:00\", \"2018-05-01T00:00:00\", \"2018-06-01T00:00:00\", \"2018-07-01T00:00:00\", \"2018-08-01T00:00:00\", \"2018-09-01T00:00:00\", \"2018-10-01T00:00:00\", \"2018-11-01T00:00:00\", \"2018-12-01T00:00:00\", \"2019-01-01T00:00:00\", \"2019-02-01T00:00:00\", \"2019-03-01T00:00:00\", \"2019-04-01T00:00:00\", \"2019-05-01T00:00:00\", \"2019-06-01T00:00:00\", \"2019-07-01T00:00:00\", \"2019-08-01T00:00:00\", \"2019-09-01T00:00:00\", \"2019-10-01T00:00:00\", \"2019-11-01T00:00:00\", \"2019-12-01T00:00:00\", \"2020-01-01T00:00:00\", \"2020-02-01T00:00:00\", \"2020-03-01T00:00:00\", \"2020-04-01T00:00:00\", \"2020-05-01T00:00:00\", \"2020-06-01T00:00:00\", \"2020-07-01T00:00:00\"], \"xaxis\": \"x\", \"y\": [3.3842, 3.41, 3.4875, 3.5133, 3.5133, 3.565, 3.565, 3.6167, 3.72, 3.72, 3.7458, 3.7458, 3.7717, 3.8233, 3.8492, 3.8492, 3.875, 3.9267, 3.9267, 3.9783, 4.03, 4.0558, 4.1592, 4.1592, 4.185, 4.2367, 4.2883, 4.34, 4.3658, 4.4433, 4.495, 4.5467, 4.5725, 4.5983, 4.65, 4.7533, 4.805, 4.8567, 4.8825, 4.8825, 4.8825, 4.9084, 5.0634, 5.0892, 5.115, 5.115, 5.1925, 5.27, 5.2184, 5.2959, 5.3217, 5.3992, 5.425, 5.5284, 5.58, 5.6059, 5.7092, 5.7092, 5.7867, 5.7867, 5.735, 5.8125, 5.9159, 5.9417, 5.9417, 5.9417, 5.89, 5.9159, 5.89, 5.8384, 5.89, 5.9159, 6.0192, 6.0192, 5.9934, 5.9934, 6.045, 6.1225, 6.0967, 5.9934, 5.89, 5.8384, 5.89, 5.9417, 5.9417, 5.9417, 5.9417, 6.045, 6.0967, 6.1225, 6.2517, 6.355, 6.4325, 6.51, 6.5359, 6.5617, 6.7425, 6.6134, 6.5617, 6.5617, 6.5359, 6.5359, 6.5359, 6.7167, 6.8459, 6.8717, 6.9492, 7.285, 7.6467, 7.4659, 7.4917, 7.3367, 7.1817, 7.2334, 7.285, 7.4659, 7.595, 7.6725, 7.7759, 8.0859, 8.2667, 8.0859, 7.9825, 7.8017, 7.6467, 7.6984, 7.8017, 7.9825, 8.06, 8.0084, 8.215, 8.68, 9.0934, 8.8867, 8.9384, 8.835, 8.8092, 8.8867, 8.9125, 9.1192, 9.2484, 9.4034, 9.5325, 9.8684, 10.4367, 10.2817, 10.2817, 10.2559, 10.0492, 10.1784, 10.23, 10.4625, 10.5659, 10.4884, 10.695, 11.005, 11.5475, 11.2892, 11.2117, 10.9275, 10.7209, 10.7984, 10.9792, 11.3409, 11.5475, 11.5217, 11.625, 12.0384, 12.4517, 12.0642, 12.1417, 12.0642, 11.9092, 12.0642, 12.245, 12.4259, 12.4259, 12.3225, 12.245, 12.6584, 13.3559, 12.9942, 12.9425, 12.7875, 12.5292, 12.7359, 13.0717, 13.4076, 13.4592, 13.3559, 13.4076, 14.0792, 14.4925, 14.4409, 14.4409, 14.2859, 14.0017, 14.1309, 14.4925, 15.2159, 15.3192, 15.035, 15.1125, 15.8876, 16.4559, 16.2492, 16.0942, 15.8876, 15.7326, 15.8359, 16.0684, 16.4559, 16.3526, 16.0684, 16.0684, 16.7917, 17.5409, 17.3084, 17.0759, 16.7917, 16.5076, 16.7142, 17.3859, 17.9284, 17.6701, 17.1792, 17.2309, 17.8767, 18.4967, 18.1867, 17.9542, 17.3342, 16.9984, 17.4376, 17.9284, 18.6517, 18.7034, 18.1351, 18.0576, 19.0134, 20.0209, 19.6851, 19.5817, 19.1167, 18.9876, 19.5817, 20.0984, 20.5117, 20.7184, 19.7884, 19.7367, 20.8734, 21.7518, 21.4417, 21.5451, 20.8217, 20.2017, 20.7184, 21.2351, 22.0617, 22.0876, 21.0542, 20.8217, 21.5967, 22.6301, 22.1651, 21.8551, 21.4934, 21.4934, 21.9584, 22.4751, 23.5343, 23.6634, 22.7334, 22.3976, 23.3276, 24.7226, 24.0768, 23.9218, 23.0434, 22.9401, 23.7151, 24.4384, 25.1101, 25.1101, 24.0768, 23.9218, 24.8259, 26.2726, 25.9626, 25.4718, 24.5159, 24.5159, 25.3168, 26.4534, 27.3059, 26.9184, 25.5493, 25.2393, 26.4793, 28.2101, 27.3576, 27.2801, 26.8409, 26.6343, 27.5126, 29.2693, 30.0701, 29.4243, 27.9001, 27.2801, 28.8043, 29.9409, 29.2693, 29.321, 28.6493, 28.1584, 29.1659, 30.4834, 31.5168, 31.3618, 29.8376, 29.0368, 30.5093, 31.7493, 31.6976, 31.2585, 30.2768, 30.0443, 31.2068, 33.8676, 34.8751, 33.8418, 31.7235, 31.3101, 32.731, 34.5227, 33.9469, 32.8941, 32.6367, 31.5629, 32.9433, 34.0303, 34.4184, 33.3846, 33.3188, 33.8395, 35.8727, 37.2112, 36.2878, 35.9943, 34.3456, 33.9643, 36.1243, 36.7772, 38.101, 37.2582, 35.4821, 36.1209, 38.7412, 40.1646, 39.742, 39.009, 37.1541, 36.3473, 38.9665, 40.8649, 42.2285, 40.3886, 38.7361, 39.7794, 41.202, 43.0869, 42.5578, 41.6215, 40.1982, 39.9321, 41.1847, 43.223, 44.8139, 43.6007, 40.5467, 40.9385, 42.1117, 44.9517, 44.3696, 42.7548, 41.4234, 40.8295, 43.5488, 45.1876, 46.1091, 45.505, 43.9496, 44.003, 45.6054, 48.8393, 50.0191, 47.8421, 44.5127, 42.1062, 43.8217, 45.3964, 47.9892, 46.8293, 44.6882, 47.1979, 52.176, 55.9342, 53.9974, 50.5102, 46.8192, 44.9289, 47.4589, 49.3168, 51.091, 50.0826, 47.0794, 47.8829, 49.7968, 53.8212, 51.6563, 49.7985, 46.8319, 45.4161, 47.1087, 50.7056, 51.7371, 48.6742, 47.1172, 47.7516, 52.9379, 55.6989, 54.4115, 52.1395, 49.3369, 46.1066, 47.3769, 50.5251, 52.2585, 49.432, 46.7476, 47.7981, 54.4112, 60.6121, 56.9337, 52.9187, 48.7185, 46.6811, 49.2486, 52.022, 53.3791, 51.1013, 49.1373, 53.2579, 60.8207, 66.1065, 61.3553, 54.9875, 50.5114, 49.3162, 52.3147, 55.7601, 55.929, 53.2255, 50.7423, 51.8983, 59.5842, 65.4681, 64.4632, 58.7322, 51.4137, 49.9912, 53.1982, 55.5156, 57.5132, 55.0594, 52.1993, 54.0541, 60.7576, 68.7075, 68.1212, 61.374, 55.2722, 51.4048, 53.2473, 55.4418, 57.6476, 54.2322, 52.7558, 54.6456, 60.0874, 65.381, 64.7721, 60.8807, 53.1114, 49.7992, 52.4268, 58.5254, 60.4105, 57.738, 54.7637, 56.4616, 63.4413, 69.2715, 63.6341, 60.1027, 54.1446, 52.2484, 56.4915, 60.622, 60.6506, 56.3729, 54.6841, 55.7249, 63.4345, 70.6727, 64.2728, 59.7759, 54.109, 49.8577, 52.7065, 56.6437, 57.1923, 54.0, 51.7022, 54.0655, 58.7664, 65.9628, 59.162, 57.314, 52.9718, 49.1707, 51.7103, 57.9314, 61.588, 57.8078, 53.7753, 55.798, 65.6301, 73.2688, 66.2545, 63.2801, 57.4501, 55.1499, 57.9273, 60.6775, 62.3596, 58.0827, 54.7212, 57.1673, 63.3492, 72.6803, 70.8479, 62.6166, 57.6106, 55.4467, 58.2228, 62.7591, 63.3921, 60.7507, 56.4553, 58.1385, 68.8758, 73.4956, 68.1637, 62.3923, 57.1915, 55.9599, 60.0336, 65.9077, 64.645, 61.1742, 57.6978, 59.4964, 68.3302, 74.0173, 70.254, 65.7966, 60.3229, 59.0245, 64.0345, 69.0282, 70.2369, 64.2987, 60.5402, 62.6219, 70.7671, 80.0833, 76.3631, 70.4954, 63.4244, 61.5776, 67.2741, 73.1676, 75.9479, 67.7223, 63.4592, 65.2706, 74.0492, 78.1368, 76.8499, 73.5377, 65.2676, 63.8617, 68.6587, 74.2491, 75.2704, 69.5107, 66.062, 69.2555, 84.404, 84.6447, 77.4221, 73.4205, 67.4636, 66.0145, 71.6535, 76.8376, 77.3265, 73.277, 67.6237, 68.7675, 77.9179, 86.2914, 77.8027, 73.6061, 67.3549, 69.0228, 75.0839, 80.3488, 79.4052, 73.8126, 68.9572, 72.7156, 79.7391, 85.556, 80.4178, 74.739, 69.8367, 67.3781, 71.4197, 77.7263, 76.7791, 72.5681, 69.2363, 73.7175, 84.7818, 88.2287, 84.7919, 79.6885, 71.2731, 67.9111, 74.5503, 82.3366, 82.2906, 74.8323, 69.8758, 74.6278, 84.4669, 94.4017, 87.4053, 79.4751, 71.1817, 69.5934, 78.1988, 83.5287, 82.1321, 75.9181, 71.4802, 75.4754, 85.0772, 92.7412, 87.667, 81.5205, 74.0457, 73.5003, 78.5503, 86.2425, 89.8063, 78.7442, 73.9353, 79.8903, 91.0933, 99.2688, 93.1691, 87.2075, 77.4715, 76.9337, 82.1958, 86.2321, 86.824, 79.4425, 74.911, 81.3, 90.753, 98.7482, 90.0486, 83.2671, 76.3793, 74.0777, 80.0138, 88.7168, 88.0487, 82.1801, 77.7266, 82.2802, 92.3623, 95.0701, 88.0838, 86.8125, 76.9828, 78.2652, 86.7123, 94.1078, 93.7954, 87.7915, 80.3296, 81.6742, 91.9551, 102.4467, 91.4671, 91.0236, 80.7497, 79.6373, 88.1204, 97.7757, 96.7014, 87.4885, 80.8647, 82.4395, 94.7746, 102.4971, 94.5218, 88.3463, 81.6662, 84.7235, 91.3293, 96.3011, 99.6734, 90.9515, 83.378, 88.2458, 102.6901, 109.3416, 97.3953, 93.0564, 83.1332, 82.7827, 90.6648, 96.3283, 99.8132, 88.5136, 82.9006, 83.1461, 93.2796, 103.2604, 95.4593, 93.51, 86.0517, 85.5043, 93.4856, 102.6936, 101.9121, 93.5608, 87.1293, 88.8047, 101.0439, 110.4292, 104.0828, 94.8015, 85.3124, 85.7418, 91.3695, 102.5243, 104.7716, 93.1841, 86.7534, 88.828, 103.8162, 113.996, 106.4378, 95.6626, 86.9849, 89.324, 95.8104, 102.1007, 100.4992, 94.2998, 87.7732, 89.8297, 105.9787, 111.4496, 101.9498, 99.2324, 86.6793, 87.3784, 99.7382, 108.8005, 109.9901, 99.5563, 90.1695, 90.6297, 108.4977, 104.8128, 101.631, 98.6932, 87.7034, 90.2388, 100.7836, 111.3696, 111.9898, 96.1212, 90.6869, 92.5922, 103.3658, 112.3854, 112.1298, 99.469, 91.045, 92.3001, 101.2636, 107.9356, 114.5031, 101.8592, 93.282, 94.1475, 107.0407, 115.1666, 108.519, 100.7093, 91.2094, 91.4431, 104.1756, 111.08, 107.8943, 98.0097, 91.2397, 94.0321, 109.6583, 117.1041, 104.6585, 98.0044, 88.3217, 87.7293, 97.5535, 104.1673, 106.0048, 95.0942, 89.3811, 89.4576, 110.8777, 119.2473, 110.7525, 98.343, 86.2612, 90.8459, 104.4774, 113.1386, 113.255, 100.3372, 89.0653, 92.8343, 114.5367, 119.7475, 107.4965, 99.1848, 89.3568, 90.0903, 102.9273, 114.9326, 113.765, 99.5821, 90.3241, 93.7486, 107.3309, 111.8351, 103.3433, 93.4051, 87.4539, 92.7704, 101.2446, 113.3866, 110.1671, 96.9014, 90.2609, 94.2111, 105.0203, 115.2323, 106.4512, 102.6701, 90.6136, 90.7, 100.6631, 110.3583, 108.4228, 99.3427, 91.6671, 96.9845, 113.3465, 124.0216, 112.6796, 104.4158, 89.8017, 91.861, 101.6422, 108.633, 108.3892, 100.4238, 92.1366, 99.1114, 108.9783, 119.9317, 116.1393, 104.0218, 89.1544, 90.695, 102.8863, 111.9826, 110.7643, 101.7996, 90.9888, 92.2113, 102.3222, 116.8926, 105.9614, 94.2339, 88.1615, 89.4711, 103.4258, 114.1946, 115.5015, 102.2398, 90.8499, 92.6032, 114.0219, 116.4746, 99.5393, 101.0063, 87.0374, 90.3591, 100.4412, 111.2371, 107.7583, 97.0813, 92.302, 97.7214, 117.2377, 128.9071, 107.6711, 104.5716, 93.4491, 93.2405, 103.3083, 113.3178, 113.2758, 101.5656, 95.3203, 103.575, 112.9498, 123.7687, 112.9837, 106.6593, 88.6631, 91.9852, 98.4548, 113.0791, 111.2697, 102.0185, 93.9518, 102.1902, 113.0698, 116.0371, 109.6578, 97.8951, 86.3541, 86.9068, 99.5332, 113.3927], \"yaxis\": \"y\"}],\n",
       "                        {\"legend\": {\"tracegroupgap\": 0}, \"template\": {\"data\": {\"bar\": [{\"error_x\": {\"color\": \"#2a3f5f\"}, \"error_y\": {\"color\": \"#2a3f5f\"}, \"marker\": {\"line\": {\"color\": \"#E5ECF6\", \"width\": 0.5}}, \"type\": \"bar\"}], \"barpolar\": [{\"marker\": {\"line\": {\"color\": \"#E5ECF6\", \"width\": 0.5}}, \"type\": \"barpolar\"}], \"carpet\": [{\"aaxis\": {\"endlinecolor\": \"#2a3f5f\", \"gridcolor\": \"white\", \"linecolor\": \"white\", \"minorgridcolor\": \"white\", \"startlinecolor\": \"#2a3f5f\"}, \"baxis\": {\"endlinecolor\": \"#2a3f5f\", \"gridcolor\": \"white\", \"linecolor\": \"white\", \"minorgridcolor\": \"white\", \"startlinecolor\": \"#2a3f5f\"}, \"type\": \"carpet\"}], \"choropleth\": [{\"colorbar\": {\"outlinewidth\": 0, \"ticks\": \"\"}, \"type\": \"choropleth\"}], \"contour\": [{\"colorbar\": {\"outlinewidth\": 0, \"ticks\": \"\"}, \"colorscale\": [[0.0, \"#0d0887\"], [0.1111111111111111, \"#46039f\"], [0.2222222222222222, \"#7201a8\"], [0.3333333333333333, \"#9c179e\"], [0.4444444444444444, \"#bd3786\"], [0.5555555555555556, \"#d8576b\"], [0.6666666666666666, \"#ed7953\"], [0.7777777777777778, \"#fb9f3a\"], [0.8888888888888888, \"#fdca26\"], [1.0, \"#f0f921\"]], \"type\": \"contour\"}], \"contourcarpet\": [{\"colorbar\": {\"outlinewidth\": 0, \"ticks\": \"\"}, \"type\": \"contourcarpet\"}], \"heatmap\": [{\"colorbar\": {\"outlinewidth\": 0, \"ticks\": \"\"}, \"colorscale\": [[0.0, \"#0d0887\"], [0.1111111111111111, \"#46039f\"], [0.2222222222222222, \"#7201a8\"], [0.3333333333333333, \"#9c179e\"], [0.4444444444444444, \"#bd3786\"], [0.5555555555555556, \"#d8576b\"], [0.6666666666666666, \"#ed7953\"], [0.7777777777777778, \"#fb9f3a\"], [0.8888888888888888, \"#fdca26\"], [1.0, \"#f0f921\"]], \"type\": \"heatmap\"}], \"heatmapgl\": [{\"colorbar\": {\"outlinewidth\": 0, \"ticks\": \"\"}, \"colorscale\": [[0.0, \"#0d0887\"], [0.1111111111111111, \"#46039f\"], [0.2222222222222222, \"#7201a8\"], [0.3333333333333333, \"#9c179e\"], [0.4444444444444444, \"#bd3786\"], [0.5555555555555556, \"#d8576b\"], [0.6666666666666666, \"#ed7953\"], [0.7777777777777778, \"#fb9f3a\"], [0.8888888888888888, \"#fdca26\"], [1.0, \"#f0f921\"]], \"type\": \"heatmapgl\"}], \"histogram\": [{\"marker\": {\"colorbar\": {\"outlinewidth\": 0, \"ticks\": \"\"}}, \"type\": \"histogram\"}], \"histogram2d\": [{\"colorbar\": {\"outlinewidth\": 0, \"ticks\": \"\"}, \"colorscale\": [[0.0, \"#0d0887\"], [0.1111111111111111, \"#46039f\"], [0.2222222222222222, \"#7201a8\"], [0.3333333333333333, \"#9c179e\"], [0.4444444444444444, \"#bd3786\"], [0.5555555555555556, \"#d8576b\"], [0.6666666666666666, \"#ed7953\"], [0.7777777777777778, \"#fb9f3a\"], [0.8888888888888888, \"#fdca26\"], [1.0, \"#f0f921\"]], \"type\": \"histogram2d\"}], \"histogram2dcontour\": [{\"colorbar\": {\"outlinewidth\": 0, \"ticks\": \"\"}, \"colorscale\": [[0.0, \"#0d0887\"], [0.1111111111111111, \"#46039f\"], [0.2222222222222222, \"#7201a8\"], [0.3333333333333333, \"#9c179e\"], [0.4444444444444444, \"#bd3786\"], [0.5555555555555556, \"#d8576b\"], [0.6666666666666666, \"#ed7953\"], [0.7777777777777778, \"#fb9f3a\"], [0.8888888888888888, \"#fdca26\"], [1.0, \"#f0f921\"]], \"type\": \"histogram2dcontour\"}], \"mesh3d\": [{\"colorbar\": {\"outlinewidth\": 0, \"ticks\": \"\"}, \"type\": \"mesh3d\"}], \"parcoords\": [{\"line\": {\"colorbar\": {\"outlinewidth\": 0, \"ticks\": \"\"}}, \"type\": \"parcoords\"}], \"pie\": [{\"automargin\": true, \"type\": \"pie\"}], \"scatter\": [{\"marker\": {\"colorbar\": {\"outlinewidth\": 0, \"ticks\": \"\"}}, \"type\": \"scatter\"}], \"scatter3d\": [{\"line\": {\"colorbar\": {\"outlinewidth\": 0, \"ticks\": \"\"}}, \"marker\": {\"colorbar\": {\"outlinewidth\": 0, \"ticks\": \"\"}}, \"type\": \"scatter3d\"}], \"scattercarpet\": [{\"marker\": {\"colorbar\": {\"outlinewidth\": 0, \"ticks\": \"\"}}, \"type\": \"scattercarpet\"}], \"scattergeo\": [{\"marker\": {\"colorbar\": {\"outlinewidth\": 0, \"ticks\": \"\"}}, \"type\": \"scattergeo\"}], \"scattergl\": [{\"marker\": {\"colorbar\": {\"outlinewidth\": 0, \"ticks\": \"\"}}, \"type\": \"scattergl\"}], \"scattermapbox\": [{\"marker\": {\"colorbar\": {\"outlinewidth\": 0, \"ticks\": \"\"}}, \"type\": \"scattermapbox\"}], \"scatterpolar\": [{\"marker\": {\"colorbar\": {\"outlinewidth\": 0, \"ticks\": \"\"}}, \"type\": \"scatterpolar\"}], \"scatterpolargl\": [{\"marker\": {\"colorbar\": {\"outlinewidth\": 0, \"ticks\": \"\"}}, \"type\": \"scatterpolargl\"}], \"scatterternary\": [{\"marker\": {\"colorbar\": {\"outlinewidth\": 0, \"ticks\": \"\"}}, \"type\": \"scatterternary\"}], \"surface\": [{\"colorbar\": {\"outlinewidth\": 0, \"ticks\": \"\"}, \"colorscale\": [[0.0, \"#0d0887\"], [0.1111111111111111, \"#46039f\"], [0.2222222222222222, \"#7201a8\"], [0.3333333333333333, \"#9c179e\"], [0.4444444444444444, \"#bd3786\"], [0.5555555555555556, \"#d8576b\"], [0.6666666666666666, \"#ed7953\"], [0.7777777777777778, \"#fb9f3a\"], [0.8888888888888888, \"#fdca26\"], [1.0, \"#f0f921\"]], \"type\": \"surface\"}], \"table\": [{\"cells\": {\"fill\": {\"color\": \"#EBF0F8\"}, \"line\": {\"color\": \"white\"}}, \"header\": {\"fill\": {\"color\": \"#C8D4E3\"}, \"line\": {\"color\": \"white\"}}, \"type\": \"table\"}]}, \"layout\": {\"annotationdefaults\": {\"arrowcolor\": \"#2a3f5f\", \"arrowhead\": 0, \"arrowwidth\": 1}, \"coloraxis\": {\"colorbar\": {\"outlinewidth\": 0, \"ticks\": \"\"}}, \"colorscale\": {\"diverging\": [[0, \"#8e0152\"], [0.1, \"#c51b7d\"], [0.2, \"#de77ae\"], [0.3, \"#f1b6da\"], [0.4, \"#fde0ef\"], [0.5, \"#f7f7f7\"], [0.6, \"#e6f5d0\"], [0.7, \"#b8e186\"], [0.8, \"#7fbc41\"], [0.9, \"#4d9221\"], [1, \"#276419\"]], \"sequential\": [[0.0, \"#0d0887\"], [0.1111111111111111, \"#46039f\"], [0.2222222222222222, \"#7201a8\"], [0.3333333333333333, \"#9c179e\"], [0.4444444444444444, \"#bd3786\"], [0.5555555555555556, \"#d8576b\"], [0.6666666666666666, \"#ed7953\"], [0.7777777777777778, \"#fb9f3a\"], [0.8888888888888888, \"#fdca26\"], [1.0, \"#f0f921\"]], \"sequentialminus\": [[0.0, \"#0d0887\"], [0.1111111111111111, \"#46039f\"], [0.2222222222222222, \"#7201a8\"], [0.3333333333333333, \"#9c179e\"], [0.4444444444444444, \"#bd3786\"], [0.5555555555555556, \"#d8576b\"], [0.6666666666666666, \"#ed7953\"], [0.7777777777777778, \"#fb9f3a\"], [0.8888888888888888, \"#fdca26\"], [1.0, \"#f0f921\"]]}, \"colorway\": [\"#636efa\", \"#EF553B\", \"#00cc96\", \"#ab63fa\", \"#FFA15A\", \"#19d3f3\", \"#FF6692\", \"#B6E880\", \"#FF97FF\", \"#FECB52\"], \"font\": {\"color\": \"#2a3f5f\"}, \"geo\": {\"bgcolor\": \"white\", \"lakecolor\": \"white\", \"landcolor\": \"#E5ECF6\", \"showlakes\": true, \"showland\": true, \"subunitcolor\": \"white\"}, \"hoverlabel\": {\"align\": \"left\"}, \"hovermode\": \"closest\", \"mapbox\": {\"style\": \"light\"}, \"paper_bgcolor\": \"white\", \"plot_bgcolor\": \"#E5ECF6\", \"polar\": {\"angularaxis\": {\"gridcolor\": \"white\", \"linecolor\": \"white\", \"ticks\": \"\"}, \"bgcolor\": \"#E5ECF6\", \"radialaxis\": {\"gridcolor\": \"white\", \"linecolor\": \"white\", \"ticks\": \"\"}}, \"scene\": {\"xaxis\": {\"backgroundcolor\": \"#E5ECF6\", \"gridcolor\": \"white\", \"gridwidth\": 2, \"linecolor\": \"white\", \"showbackground\": true, \"ticks\": \"\", \"zerolinecolor\": \"white\"}, \"yaxis\": {\"backgroundcolor\": \"#E5ECF6\", \"gridcolor\": \"white\", \"gridwidth\": 2, \"linecolor\": \"white\", \"showbackground\": true, \"ticks\": \"\", \"zerolinecolor\": \"white\"}, \"zaxis\": {\"backgroundcolor\": \"#E5ECF6\", \"gridcolor\": \"white\", \"gridwidth\": 2, \"linecolor\": \"white\", \"showbackground\": true, \"ticks\": \"\", \"zerolinecolor\": \"white\"}}, \"shapedefaults\": {\"line\": {\"color\": \"#2a3f5f\"}}, \"ternary\": {\"aaxis\": {\"gridcolor\": \"white\", \"linecolor\": \"white\", \"ticks\": \"\"}, \"baxis\": {\"gridcolor\": \"white\", \"linecolor\": \"white\", \"ticks\": \"\"}, \"bgcolor\": \"#E5ECF6\", \"caxis\": {\"gridcolor\": \"white\", \"linecolor\": \"white\", \"ticks\": \"\"}}, \"title\": {\"x\": 0.05}, \"xaxis\": {\"automargin\": true, \"gridcolor\": \"white\", \"linecolor\": \"white\", \"ticks\": \"\", \"title\": {\"standoff\": 15}, \"zerolinecolor\": \"white\", \"zerolinewidth\": 2}, \"yaxis\": {\"automargin\": true, \"gridcolor\": \"white\", \"linecolor\": \"white\", \"ticks\": \"\", \"title\": {\"standoff\": 15}, \"zerolinecolor\": \"white\", \"zerolinewidth\": 2}}}, \"title\": {\"text\": \"Energy_Production\"}, \"xaxis\": {\"anchor\": \"y\", \"domain\": [0.0, 1.0], \"rangeselector\": {\"buttons\": [{\"count\": 1, \"label\": \"1m\", \"step\": \"month\", \"stepmode\": \"backward\"}, {\"count\": 2, \"label\": \"6m\", \"step\": \"month\", \"stepmode\": \"backward\"}, {\"count\": 3, \"label\": \"6mYTD\", \"step\": \"month\", \"stepmode\": \"todate\"}, {\"count\": 4, \"label\": \"2y\", \"step\": \"year\", \"stepmode\": \"backward\"}, {\"count\": 5, \"label\": \"3y\", \"step\": \"year\", \"stepmode\": \"backward\"}, {\"step\": \"all\"}]}, \"rangeslider\": {\"visible\": true}, \"title\": {\"text\": \"Date\"}}, \"yaxis\": {\"anchor\": \"x\", \"domain\": [0.0, 1.0], \"title\": {\"text\": \"Energy Production\"}}},\n",
       "                        {\"responsive\": true}\n",
       "                    ).then(function(){\n",
       "                            \n",
       "var gd = document.getElementById('9f5ae964-abb0-44b1-a353-b1f4d8bb3281');\n",
       "var x = new MutationObserver(function (mutations, observer) {{\n",
       "        var display = window.getComputedStyle(gd).display;\n",
       "        if (!display || display === 'none') {{\n",
       "            console.log([gd, 'removed!']);\n",
       "            Plotly.purge(gd);\n",
       "            observer.disconnect();\n",
       "        }}\n",
       "}});\n",
       "\n",
       "// Listen for the removal of the full notebook cells\n",
       "var notebookContainer = gd.closest('#notebook-container');\n",
       "if (notebookContainer) {{\n",
       "    x.observe(notebookContainer, {childList: true});\n",
       "}}\n",
       "\n",
       "// Listen for the clearing of the current output cell\n",
       "var outputEl = gd.closest('.output');\n",
       "if (outputEl) {{\n",
       "    x.observe(outputEl, {childList: true});\n",
       "}}\n",
       "\n",
       "                        })\n",
       "                };\n",
       "                });\n",
       "            </script>\n",
       "        </div>"
      ]
     },
     "metadata": {},
     "output_type": "display_data"
    }
   ],
   "source": [
    "import plotly.express as px\n",
    "fig = px.line(df, x = 'Date',y = 'Energy Production',title = 'Energy_Production')\n",
    "\n",
    "fig.update_xaxes(\n",
    "    rangeslider_visible= True,\n",
    "    rangeselector=dict(\n",
    "                        buttons = list([\n",
    "                        dict(count = 1,label = '1m',step='month',stepmode = \"backward\"),\n",
    "                        dict(count = 2,label = '6m',step='month',stepmode = \"backward\"),\n",
    "                        dict(count = 3,label = '6mYTD',step='month',stepmode = \"todate\"),\n",
    "                        dict(count = 4,label = '2y',step='year',stepmode = \"backward\"),\n",
    "                        dict(count = 5,label = '3y',step='year',stepmode = \"backward\"),\n",
    "                        dict(step= 'all')\n",
    "                            ])        \n",
    "                        )\n",
    "                   )\n",
    "fig.show()"
   ]
  },
  {
   "cell_type": "code",
   "execution_count": 166,
   "metadata": {},
   "outputs": [],
   "source": [
    "df.set_index('Date', inplace=True)"
   ]
  },
  {
   "cell_type": "code",
   "execution_count": 167,
   "metadata": {},
   "outputs": [
    {
     "name": "stdout",
     "output_type": "stream",
     "text": [
      "<class 'pandas.core.frame.DataFrame'>\n",
      "DatetimeIndex: 979 entries, 1939-01-01 to 2020-07-01\n",
      "Data columns (total 1 columns):\n",
      "Energy Production    979 non-null float64\n",
      "dtypes: float64(1)\n",
      "memory usage: 15.3 KB\n"
     ]
    }
   ],
   "source": [
    "df.info()"
   ]
  },
  {
   "cell_type": "code",
   "execution_count": 168,
   "metadata": {},
   "outputs": [
    {
     "data": {
      "text/plain": [
       "<matplotlib.axes._subplots.AxesSubplot at 0x2de14df9b00>"
      ]
     },
     "execution_count": 168,
     "metadata": {},
     "output_type": "execute_result"
    },
    {
     "data": {
      "image/png": "[encoded data removed]",
      "text/plain": [
       "<Figure size 576x432 with 1 Axes>"
      ]
     },
     "metadata": {
      "needs_background": "light"
     },
     "output_type": "display_data"
    }
   ],
   "source": [
    "df['Energy Production'].plot()"
   ]
  },
  {
   "cell_type": "code",
   "execution_count": 169,
   "metadata": {},
   "outputs": [
    {
     "data": {
      "image/png": "[encoded data removed]",
      "text/plain": [
       "<Figure size 864x432 with 2 Axes>"
      ]
     },
     "metadata": {
      "needs_background": "light"
     },
     "output_type": "display_data"
    }
   ],
   "source": [
    "from statsmodels.graphics.tsaplots import plot_acf, plot_pacf\n",
    "fig, ax = plt.subplots(2, figsize=(12,6))\n",
    "ax[0] = plot_acf(df['Energy Production'].dropna(), ax=ax[0], lags=100)\n",
    "ax[1] = plot_pacf(df['Energy Production'].dropna(), ax=ax[1], lags=100)"
   ]
  },
  {
   "cell_type": "code",
   "execution_count": 170,
   "metadata": {},
   "outputs": [],
   "source": [
    "def tsplot(y, lags=None, figsize=(12, 7), style='bmh'):\n",
    "    \"\"\"\n",
    "        Plot time series, its ACF and PACF, calculate Dickey–Fuller test\n",
    "        \n",
    "        y - timeseries\n",
    "        lags - how many lags to include in ACF, PACF calculation\n",
    "    \"\"\"\n",
    "    if not isinstance(y, pd.Series):\n",
    "        y = pd.Series(y)\n",
    "        \n",
    "    with plt.style.context(style):    \n",
    "        fig = plt.figure(figsize=figsize)\n",
    "        layout = (2, 2)\n",
    "        ts_ax = plt.subplot2grid(layout, (0, 0), colspan=2)\n",
    "        acf_ax = plt.subplot2grid(layout, (1, 0))\n",
    "        pacf_ax = plt.subplot2grid(layout, (1, 1))\n",
    "        \n",
    "        y.plot(ax=ts_ax)\n",
    "        test_statistic = sm.tsa.stattools.adfuller(y,regresults=True)[0]\n",
    "        p_value = sm.tsa.stattools.adfuller(y)[1]\n",
    "        print(\"Test statistic = {:.3f}\".format(test_statistic))\n",
    "        print(\"P-value = {:.3f}\".format(p_value))\n",
    "        ts_ax.set_title('Time Series Analysis Plots\\n Dickey-Fuller: p={0:.5f}'.format(p_value))\n",
    "        smt.graphics.plot_acf(y, lags=lags, ax=acf_ax)\n",
    "        smt.graphics.plot_pacf(y, lags=lags, ax=pacf_ax)\n",
    "        plt.tight_layout()"
   ]
  },
  {
   "cell_type": "code",
   "execution_count": 171,
   "metadata": {},
   "outputs": [
    {
     "name": "stdout",
     "output_type": "stream",
     "text": [
      "Test statistic = -0.721\n",
      "P-value = 0.841\n"
     ]
    },
    {
     "data": {
      "image/png": "[encoded data removed]",
      "text/plain": [
       "<Figure size 864x504 with 3 Axes>"
      ]
     },
     "metadata": {
      "needs_background": "light"
     },
     "output_type": "display_data"
    }
   ],
   "source": [
    "tsplot(df['Energy Production'])"
   ]
  },
  {
   "cell_type": "code",
   "execution_count": 172,
   "metadata": {},
   "outputs": [],
   "source": [
    "## MAPE\n",
    "\n",
    "def mean_absolute_percentage_error(y_true, y_pred):\n",
    "    return np.mean(np.abs((y_true-y_pred)/ y_true)) * 100"
   ]
  },
  {
   "cell_type": "code",
   "execution_count": 173,
   "metadata": {},
   "outputs": [
    {
     "data": {
      "image/png": "[encoded data removed]",
      "text/plain": [
       "<Figure size 576x432 with 4 Axes>"
      ]
     },
     "metadata": {
      "needs_background": "light"
     },
     "output_type": "display_data"
    }
   ],
   "source": [
    "## Decomposition of time series\n",
    "\n",
    "import statsmodels.api as sm\n",
    "# deal with missing values.\n",
    "df['Energy Production'].interpolate(inplace=True)\n",
    "res = sm.tsa.seasonal_decompose(df['Energy Production'],model='multiplicative')\n",
    "resplot = res.plot()"
   ]
  },
  {
   "cell_type": "code",
   "execution_count": 174,
   "metadata": {},
   "outputs": [
    {
     "name": "stdout",
     "output_type": "stream",
     "text": [
      "<class 'pandas.core.frame.DataFrame'>\n",
      "DatetimeIndex: 979 entries, 1939-01-01 to 2020-07-01\n",
      "Data columns (total 1 columns):\n",
      "Energy Production    979 non-null float64\n",
      "dtypes: float64(1)\n",
      "memory usage: 15.3 KB\n"
     ]
    }
   ],
   "source": [
    "df.info()"
   ]
  },
  {
   "cell_type": "code",
   "execution_count": 175,
   "metadata": {},
   "outputs": [
    {
     "name": "stdout",
     "output_type": "stream",
     "text": [
      "Test Statistics: 4.364620318120944\n",
      "p-value: 0.01\n",
      "Critical values: {'10%': 0.347, '5%': 0.463, '2.5%': 0.574, '1%': 0.739}\n",
      "\n",
      "We reject the null hypothesis i.e. Series is not stationary\n"
     ]
    }
   ],
   "source": [
    "#H0: Series is stationary\n",
    "#H1: Series is not stationary\n",
    "\n",
    "from statsmodels.tsa.stattools import kpss\n",
    "import warnings                                  # `do not disturbe` mode\n",
    "warnings.filterwarnings('ignore')\n",
    "\n",
    "\n",
    "stats, p, lags, critical_values = kpss(df['Energy Production'], 'c')\n",
    "print(f'Test Statistics: {stats}')\n",
    "print(f'p-value: {p}')\n",
    "print(f'Critical values: {critical_values}')\n",
    "\n",
    "if p < 0.05:\n",
    "    print('\\nWe reject the null hypothesis i.e. Series is not stationary')\n",
    "else:\n",
    "    print('\\nWe fail to reject the null hypothesis i.e. Series is stationary')\n"
   ]
  },
  {
   "cell_type": "code",
   "execution_count": 176,
   "metadata": {},
   "outputs": [
    {
     "name": "stdout",
     "output_type": "stream",
     "text": [
      "Test Statistics: -0.7209808933942852\n",
      "p-value: 0.8412399105457927\n",
      "Critical values: {'1%': -3.4372087295925664, '5%': -2.8645680048962348, '10%': -2.5683822785402914}\n",
      "\n",
      "We fail to reject the null hypothesis i.e. Series is NOT stationary\n"
     ]
    }
   ],
   "source": [
    "# Adfuller test\n",
    "\n",
    "   # Ho: Series possess a unit root and hence is not stationary\n",
    "   # H1: Series is stationary\n",
    "\n",
    "from statsmodels.tsa.stattools import adfuller\n",
    "result = adfuller(df['Energy Production'])\n",
    "print(f'Test Statistics: {result[0]}')\n",
    "print(f'p-value: {result[1]}')\n",
    "print(f'Critical values: {result[4]}')\n",
    "\n",
    "if result[1] < 0.05:\n",
    "    print('\\nWe reject the null hypothesis i.e. Series is stationary')\n",
    "else:\n",
    "    print('\\nWe fail to reject the null hypothesis i.e. Series is NOT stationary')"
   ]
  },
  {
   "cell_type": "markdown",
   "metadata": {},
   "source": [
    "# Using SARIMA"
   ]
  },
  {
   "cell_type": "code",
   "execution_count": 177,
   "metadata": {},
   "outputs": [
    {
     "name": "stdout",
     "output_type": "stream",
     "text": [
      "Test statistic = -0.721\n",
      "P-value = 0.841\n"
     ]
    },
    {
     "data": {
      "image/png": "[encoded data removed]",
      "text/plain": [
       "<Figure size 864x504 with 3 Axes>"
      ]
     },
     "metadata": {
      "needs_background": "light"
     },
     "output_type": "display_data"
    }
   ],
   "source": [
    "tsplot(df['Energy Production'])"
   ]
  },
  {
   "cell_type": "code",
   "execution_count": 178,
   "metadata": {},
   "outputs": [
    {
     "name": "stdout",
     "output_type": "stream",
     "text": [
      "Wall time: 0 ns\n",
      "Performing stepwise search to minimize aic\n",
      " ARIMA(0,1,0)(1,0,1)[12] intercept   : AIC=4168.501, Time=1.08 sec\n",
      " ARIMA(0,1,0)(0,0,0)[12] intercept   : AIC=6129.227, Time=0.02 sec\n",
      " ARIMA(1,1,0)(1,0,0)[12] intercept   : AIC=inf, Time=0.61 sec\n",
      " ARIMA(0,1,1)(0,0,1)[12] intercept   : AIC=5283.133, Time=0.51 sec\n",
      " ARIMA(0,1,0)(0,0,0)[12]             : AIC=6127.630, Time=0.02 sec\n",
      " ARIMA(0,1,0)(0,0,1)[12] intercept   : AIC=5387.444, Time=0.27 sec\n",
      " ARIMA(0,1,0)(1,0,0)[12] intercept   : AIC=inf, Time=0.38 sec\n",
      " ARIMA(0,1,0)(2,0,1)[12] intercept   : AIC=4165.433, Time=3.09 sec\n",
      " ARIMA(0,1,0)(2,0,0)[12] intercept   : AIC=inf, Time=1.60 sec\n",
      " ARIMA(0,1,0)(2,0,2)[12] intercept   : AIC=4157.723, Time=6.83 sec\n",
      " ARIMA(0,1,0)(1,0,2)[12] intercept   : AIC=4208.789, Time=6.72 sec\n",
      " ARIMA(1,1,0)(2,0,2)[12] intercept   : AIC=4126.450, Time=7.86 sec\n",
      " ARIMA(1,1,0)(1,0,2)[12] intercept   : AIC=inf, Time=nan sec\n",
      " ARIMA(1,1,0)(2,0,1)[12] intercept   : AIC=4134.321, Time=3.99 sec\n",
      " ARIMA(1,1,0)(1,0,1)[12] intercept   : AIC=4137.273, Time=1.13 sec\n",
      " ARIMA(2,1,0)(2,0,2)[12] intercept   : AIC=4066.287, Time=7.61 sec\n",
      " ARIMA(2,1,0)(1,0,2)[12] intercept   : AIC=4167.859, Time=7.44 sec\n",
      " ARIMA(2,1,0)(2,0,1)[12] intercept   : AIC=4073.470, Time=4.94 sec\n",
      " ARIMA(2,1,0)(1,0,1)[12] intercept   : AIC=4077.315, Time=1.52 sec\n",
      " ARIMA(3,1,0)(2,0,2)[12] intercept   : AIC=4055.008, Time=7.87 sec\n",
      " ARIMA(3,1,0)(1,0,2)[12] intercept   : AIC=inf, Time=7.17 sec\n",
      " ARIMA(3,1,0)(2,0,1)[12] intercept   : AIC=4064.116, Time=5.52 sec\n",
      " ARIMA(3,1,0)(1,0,1)[12] intercept   : AIC=4068.049, Time=1.90 sec\n",
      " ARIMA(3,1,1)(2,0,2)[12] intercept   : AIC=inf, Time=10.79 sec\n",
      " ARIMA(2,1,1)(2,0,2)[12] intercept   : AIC=inf, Time=9.27 sec\n",
      " ARIMA(3,1,0)(2,0,2)[12]             : AIC=4053.009, Time=5.66 sec\n",
      " ARIMA(3,1,0)(1,0,2)[12]             : AIC=4057.864, Time=5.06 sec\n",
      " ARIMA(3,1,0)(2,0,1)[12]             : AIC=4062.116, Time=2.70 sec\n",
      " ARIMA(3,1,0)(1,0,1)[12]             : AIC=4066.049, Time=0.96 sec\n",
      " ARIMA(2,1,0)(2,0,2)[12]             : AIC=4064.287, Time=4.41 sec\n",
      " ARIMA(3,1,1)(2,0,2)[12]             : AIC=3957.019, Time=6.98 sec\n",
      " ARIMA(3,1,1)(1,0,2)[12]             : AIC=3974.140, Time=6.36 sec\n",
      " ARIMA(3,1,1)(2,0,1)[12]             : AIC=3965.675, Time=4.62 sec\n",
      " ARIMA(3,1,1)(1,0,1)[12]             : AIC=3969.103, Time=1.92 sec\n",
      " ARIMA(2,1,1)(2,0,2)[12]             : AIC=3957.577, Time=6.35 sec\n",
      " ARIMA(3,1,2)(2,0,2)[12]             : AIC=4028.906, Time=8.87 sec\n",
      " ARIMA(2,1,2)(2,0,2)[12]             : AIC=inf, Time=7.79 sec\n",
      "\n",
      "Best model:  ARIMA(3,1,1)(2,0,2)[12]          \n",
      "Total fit time: 164.230 seconds\n"
     ]
    }
   ],
   "source": [
    "import pmdarima as pm\n",
    "import time\n",
    "#by default auto arima uses AIC,the lower aic the model is good\n",
    "%time\n",
    "model = pm.auto_arima(df['Energy Production'],\n",
    "                      m = 12, seasonal = True,\n",
    "                      start_p = 0,start_q=0,max_p=3, max_q=3,max_order=4,test='adf',error_action = 'ignore',\n",
    "                      suppress_warnings =True,\n",
    "                      stepwise =True,trace = True)"
   ]
  },
  {
   "cell_type": "markdown",
   "metadata": {},
   "source": [
    " ARIMA(3,1,1)(2,0,2)[12]             : AIC=3957.019, Time=6.83 sec"
   ]
  },
  {
   "cell_type": "code",
   "execution_count": 179,
   "metadata": {},
   "outputs": [
    {
     "data": {
      "text/plain": [
       "3957.019210187945"
      ]
     },
     "execution_count": 179,
     "metadata": {},
     "output_type": "execute_result"
    }
   ],
   "source": [
    "model.aic()"
   ]
  },
  {
   "cell_type": "code",
   "execution_count": 180,
   "metadata": {},
   "outputs": [
    {
     "data": {
      "text/html": [
       "<table class=\"simpletable\">\n",
       "<caption>SARIMAX Results</caption>\n",
       "<tr>\n",
       "  <th>Dep. Variable:</th>                    <td>y</td>                  <th>  No. Observations:  </th>    <td>979</td>   \n",
       "</tr>\n",
       "<tr>\n",
       "  <th>Model:</th>           <td>SARIMAX(3, 1, 1)x(2, 0, [1, 2], 12)</td> <th>  Log Likelihood     </th> <td>-1969.510</td>\n",
       "</tr>\n",
       "<tr>\n",
       "  <th>Date:</th>                     <td>Thu, 27 Aug 2020</td>           <th>  AIC                </th> <td>3957.019</td> \n",
       "</tr>\n",
       "<tr>\n",
       "  <th>Time:</th>                         <td>18:46:51</td>               <th>  BIC                </th> <td>4000.989</td> \n",
       "</tr>\n",
       "<tr>\n",
       "  <th>Sample:</th>                           <td>0</td>                  <th>  HQIC               </th> <td>3973.749</td> \n",
       "</tr>\n",
       "<tr>\n",
       "  <th></th>                               <td> - 979</td>                <th>                     </th>     <td> </td>    \n",
       "</tr>\n",
       "<tr>\n",
       "  <th>Covariance Type:</th>                 <td>opg</td>                 <th>                     </th>     <td> </td>    \n",
       "</tr>\n",
       "</table>\n",
       "<table class=\"simpletable\">\n",
       "<tr>\n",
       "      <td></td>        <th>coef</th>     <th>std err</th>      <th>z</th>      <th>P>|z|</th>  <th>[0.025</th>    <th>0.975]</th>  \n",
       "</tr>\n",
       "<tr>\n",
       "  <th>ar.L1</th>    <td>    0.5770</td> <td>    0.023</td> <td>   25.168</td> <td> 0.000</td> <td>    0.532</td> <td>    0.622</td>\n",
       "</tr>\n",
       "<tr>\n",
       "  <th>ar.L2</th>    <td>   -0.0874</td> <td>    0.023</td> <td>   -3.823</td> <td> 0.000</td> <td>   -0.132</td> <td>   -0.043</td>\n",
       "</tr>\n",
       "<tr>\n",
       "  <th>ar.L3</th>    <td>    0.0564</td> <td>    0.026</td> <td>    2.154</td> <td> 0.031</td> <td>    0.005</td> <td>    0.108</td>\n",
       "</tr>\n",
       "<tr>\n",
       "  <th>ma.L1</th>    <td>   -0.9450</td> <td>    0.012</td> <td>  -75.955</td> <td> 0.000</td> <td>   -0.969</td> <td>   -0.921</td>\n",
       "</tr>\n",
       "<tr>\n",
       "  <th>ar.S.L12</th> <td>    0.6141</td> <td>    0.148</td> <td>    4.158</td> <td> 0.000</td> <td>    0.325</td> <td>    0.904</td>\n",
       "</tr>\n",
       "<tr>\n",
       "  <th>ar.S.L24</th> <td>    0.3795</td> <td>    0.146</td> <td>    2.596</td> <td> 0.009</td> <td>    0.093</td> <td>    0.666</td>\n",
       "</tr>\n",
       "<tr>\n",
       "  <th>ma.S.L12</th> <td>   -0.2152</td> <td>    0.148</td> <td>   -1.454</td> <td> 0.146</td> <td>   -0.505</td> <td>    0.075</td>\n",
       "</tr>\n",
       "<tr>\n",
       "  <th>ma.S.L24</th> <td>   -0.3737</td> <td>    0.091</td> <td>   -4.127</td> <td> 0.000</td> <td>   -0.551</td> <td>   -0.196</td>\n",
       "</tr>\n",
       "<tr>\n",
       "  <th>sigma2</th>   <td>    3.1687</td> <td>    0.091</td> <td>   34.772</td> <td> 0.000</td> <td>    2.990</td> <td>    3.347</td>\n",
       "</tr>\n",
       "</table>\n",
       "<table class=\"simpletable\">\n",
       "<tr>\n",
       "  <th>Ljung-Box (Q):</th>          <td>110.12</td> <th>  Jarque-Bera (JB):  </th> <td>626.12</td>\n",
       "</tr>\n",
       "<tr>\n",
       "  <th>Prob(Q):</th>                 <td>0.00</td>  <th>  Prob(JB):          </th>  <td>0.00</td> \n",
       "</tr>\n",
       "<tr>\n",
       "  <th>Heteroskedasticity (H):</th> <td>123.01</td> <th>  Skew:              </th>  <td>-0.14</td>\n",
       "</tr>\n",
       "<tr>\n",
       "  <th>Prob(H) (two-sided):</th>     <td>0.00</td>  <th>  Kurtosis:          </th>  <td>6.91</td> \n",
       "</tr>\n",
       "</table><br/><br/>Warnings:<br/>[1] Covariance matrix calculated using the outer product of gradients (complex-step)."
      ],
      "text/plain": [
       "<class 'statsmodels.iolib.summary.Summary'>\n",
       "\"\"\"\n",
       "                                        SARIMAX Results                                        \n",
       "===============================================================================================\n",
       "Dep. Variable:                                       y   No. Observations:                  979\n",
       "Model:             SARIMAX(3, 1, 1)x(2, 0, [1, 2], 12)   Log Likelihood               -1969.510\n",
       "Date:                                 Thu, 27 Aug 2020   AIC                           3957.019\n",
       "Time:                                         18:46:51   BIC                           4000.989\n",
       "Sample:                                              0   HQIC                          3973.749\n",
       "                                                 - 979                                         \n",
       "Covariance Type:                                   opg                                         \n",
       "==============================================================================\n",
       "                 coef    std err          z      P>|z|      [0.025      0.975]\n",
       "------------------------------------------------------------------------------\n",
       "ar.L1          0.5770      0.023     25.168      0.000       0.532       0.622\n",
       "ar.L2         -0.0874      0.023     -3.823      0.000      -0.132      -0.043\n",
       "ar.L3          0.0564      0.026      2.154      0.031       0.005       0.108\n",
       "ma.L1         -0.9450      0.012    -75.955      0.000      -0.969      -0.921\n",
       "ar.S.L12       0.6141      0.148      4.158      0.000       0.325       0.904\n",
       "ar.S.L24       0.3795      0.146      2.596      0.009       0.093       0.666\n",
       "ma.S.L12      -0.2152      0.148     -1.454      0.146      -0.505       0.075\n",
       "ma.S.L24      -0.3737      0.091     -4.127      0.000      -0.551      -0.196\n",
       "sigma2         3.1687      0.091     34.772      0.000       2.990       3.347\n",
       "===================================================================================\n",
       "Ljung-Box (Q):                      110.12   Jarque-Bera (JB):               626.12\n",
       "Prob(Q):                              0.00   Prob(JB):                         0.00\n",
       "Heteroskedasticity (H):             123.01   Skew:                            -0.14\n",
       "Prob(H) (two-sided):                  0.00   Kurtosis:                         6.91\n",
       "===================================================================================\n",
       "\n",
       "Warnings:\n",
       "[1] Covariance matrix calculated using the outer product of gradients (complex-step).\n",
       "\"\"\""
      ]
     },
     "execution_count": 180,
     "metadata": {},
     "output_type": "execute_result"
    }
   ],
   "source": [
    "model.summary()"
   ]
  },
  {
   "cell_type": "code",
   "execution_count": 181,
   "metadata": {},
   "outputs": [
    {
     "data": {
      "text/plain": [
       "array([ 0.57701871, -0.08744504,  0.05641798])"
      ]
     },
     "execution_count": 181,
     "metadata": {},
     "output_type": "execute_result"
    }
   ],
   "source": [
    "model.arparams()"
   ]
  },
  {
   "cell_type": "code",
   "execution_count": 182,
   "metadata": {},
   "outputs": [
    {
     "name": "stdout",
     "output_type": "stream",
     "text": [
      "Sum of AR coefficients: 0.54599165\n"
     ]
    }
   ],
   "source": [
    "print (\"Sum of AR coefficients:\", (0.57701871 -0.08744504 +  0.05641798))"
   ]
  },
  {
   "cell_type": "markdown",
   "metadata": {},
   "source": [
    "## Train Test Split"
   ]
  },
  {
   "cell_type": "code",
   "execution_count": 183,
   "metadata": {},
   "outputs": [
    {
     "name": "stdout",
     "output_type": "stream",
     "text": [
      "(228, 1)\n",
      "(19, 1)\n"
     ]
    }
   ],
   "source": [
    "train = df.loc['2000':'2018']\n",
    "test  = df.loc['2019':]\n",
    "print(train.shape)\n",
    "print(test.shape)"
   ]
  },
  {
   "cell_type": "markdown",
   "metadata": {},
   "source": [
    "## Train the model"
   ]
  },
  {
   "cell_type": "code",
   "execution_count": 184,
   "metadata": {},
   "outputs": [
    {
     "data": {
      "text/plain": [
       "ARIMA(maxiter=50, method='lbfgs', order=(3, 1, 1), out_of_sample_size=0,\n",
       "      scoring='mse', scoring_args={}, seasonal_order=(2, 0, 2, 12),\n",
       "      start_params=None, suppress_warnings=True, trend=None,\n",
       "      with_intercept=False)"
      ]
     },
     "execution_count": 184,
     "metadata": {},
     "output_type": "execute_result"
    }
   ],
   "source": [
    "model.fit(train)"
   ]
  },
  {
   "cell_type": "markdown",
   "metadata": {},
   "source": [
    "## Evaluate the model"
   ]
  },
  {
   "cell_type": "code",
   "execution_count": 185,
   "metadata": {},
   "outputs": [],
   "source": [
    "forecast = model.predict(n_periods=19,return_conf_int=True)"
   ]
  },
  {
   "cell_type": "code",
   "execution_count": 186,
   "metadata": {},
   "outputs": [
    {
     "data": {
      "text/plain": [
       "tuple"
      ]
     },
     "execution_count": 186,
     "metadata": {},
     "output_type": "execute_result"
    }
   ],
   "source": [
    "type(forecast)"
   ]
  },
  {
   "cell_type": "code",
   "execution_count": 187,
   "metadata": {},
   "outputs": [
    {
     "data": {
      "text/plain": [
       "<matplotlib.axes._subplots.AxesSubplot at 0x2de17d46eb8>"
      ]
     },
     "execution_count": 187,
     "metadata": {},
     "output_type": "execute_result"
    },
    {
     "data": {
      "image/png": "[encoded data removed]",
      "text/plain": [
       "<Figure size 576x432 with 1 Axes>"
      ]
     },
     "metadata": {
      "needs_background": "light"
     },
     "output_type": "display_data"
    }
   ],
   "source": [
    "df_forecast = pd.DataFrame(forecast[0],index = test.index,columns=['Prediction'])\n",
    "pd.concat([test,df_forecast],axis=1).plot()"
   ]
  },
  {
   "cell_type": "code",
   "execution_count": 188,
   "metadata": {},
   "outputs": [],
   "source": [
    "df_final =  pd.merge(test, df_forecast, on='Date')"
   ]
  },
  {
   "cell_type": "code",
   "execution_count": 189,
   "metadata": {},
   "outputs": [
    {
     "data": {
      "text/html": [
       "<div>\n",
       "<style scoped>\n",
       "    .dataframe tbody tr th:only-of-type {\n",
       "        vertical-align: middle;\n",
       "    }\n",
       "\n",
       "    .dataframe tbody tr th {\n",
       "        vertical-align: top;\n",
       "    }\n",
       "\n",
       "    .dataframe thead th {\n",
       "        text-align: right;\n",
       "    }\n",
       "</style>\n",
       "<table border=\"1\" class=\"dataframe\">\n",
       "  <thead>\n",
       "    <tr style=\"text-align: right;\">\n",
       "      <th></th>\n",
       "      <th>Energy Production</th>\n",
       "      <th>Prediction</th>\n",
       "    </tr>\n",
       "    <tr>\n",
       "      <th>Date</th>\n",
       "      <th></th>\n",
       "      <th></th>\n",
       "    </tr>\n",
       "  </thead>\n",
       "  <tbody>\n",
       "    <tr>\n",
       "      <th>2019-01-01</th>\n",
       "      <td>123.7687</td>\n",
       "      <td>121.345284</td>\n",
       "    </tr>\n",
       "    <tr>\n",
       "      <th>2019-02-01</th>\n",
       "      <td>112.9837</td>\n",
       "      <td>108.087179</td>\n",
       "    </tr>\n",
       "    <tr>\n",
       "      <th>2019-03-01</th>\n",
       "      <td>106.6593</td>\n",
       "      <td>103.553683</td>\n",
       "    </tr>\n",
       "    <tr>\n",
       "      <th>2019-04-01</th>\n",
       "      <td>88.6631</td>\n",
       "      <td>92.590902</td>\n",
       "    </tr>\n",
       "    <tr>\n",
       "      <th>2019-05-01</th>\n",
       "      <td>91.9852</td>\n",
       "      <td>93.753859</td>\n",
       "    </tr>\n",
       "    <tr>\n",
       "      <th>2019-06-01</th>\n",
       "      <td>98.4548</td>\n",
       "      <td>103.985474</td>\n",
       "    </tr>\n",
       "    <tr>\n",
       "      <th>2019-07-01</th>\n",
       "      <td>113.0791</td>\n",
       "      <td>113.445775</td>\n",
       "    </tr>\n",
       "    <tr>\n",
       "      <th>2019-08-01</th>\n",
       "      <td>111.2697</td>\n",
       "      <td>112.690594</td>\n",
       "    </tr>\n",
       "    <tr>\n",
       "      <th>2019-09-01</th>\n",
       "      <td>102.0185</td>\n",
       "      <td>102.031142</td>\n",
       "    </tr>\n",
       "    <tr>\n",
       "      <th>2019-10-01</th>\n",
       "      <td>93.9518</td>\n",
       "      <td>95.107493</td>\n",
       "    </tr>\n",
       "    <tr>\n",
       "      <th>2019-11-01</th>\n",
       "      <td>102.1902</td>\n",
       "      <td>100.392981</td>\n",
       "    </tr>\n",
       "    <tr>\n",
       "      <th>2019-12-01</th>\n",
       "      <td>113.0698</td>\n",
       "      <td>113.423097</td>\n",
       "    </tr>\n",
       "    <tr>\n",
       "      <th>2020-01-01</th>\n",
       "      <td>116.0371</td>\n",
       "      <td>121.894145</td>\n",
       "    </tr>\n",
       "    <tr>\n",
       "      <th>2020-02-01</th>\n",
       "      <td>109.6578</td>\n",
       "      <td>108.714076</td>\n",
       "    </tr>\n",
       "    <tr>\n",
       "      <th>2020-03-01</th>\n",
       "      <td>97.8951</td>\n",
       "      <td>103.906732</td>\n",
       "    </tr>\n",
       "    <tr>\n",
       "      <th>2020-04-01</th>\n",
       "      <td>86.3541</td>\n",
       "      <td>93.279227</td>\n",
       "    </tr>\n",
       "    <tr>\n",
       "      <th>2020-05-01</th>\n",
       "      <td>86.9068</td>\n",
       "      <td>94.514262</td>\n",
       "    </tr>\n",
       "    <tr>\n",
       "      <th>2020-06-01</th>\n",
       "      <td>99.5332</td>\n",
       "      <td>104.573892</td>\n",
       "    </tr>\n",
       "    <tr>\n",
       "      <th>2020-07-01</th>\n",
       "      <td>113.3927</td>\n",
       "      <td>113.812391</td>\n",
       "    </tr>\n",
       "  </tbody>\n",
       "</table>\n",
       "</div>"
      ],
      "text/plain": [
       "            Energy Production  Prediction\n",
       "Date                                     \n",
       "2019-01-01           123.7687  121.345284\n",
       "2019-02-01           112.9837  108.087179\n",
       "2019-03-01           106.6593  103.553683\n",
       "2019-04-01            88.6631   92.590902\n",
       "2019-05-01            91.9852   93.753859\n",
       "2019-06-01            98.4548  103.985474\n",
       "2019-07-01           113.0791  113.445775\n",
       "2019-08-01           111.2697  112.690594\n",
       "2019-09-01           102.0185  102.031142\n",
       "2019-10-01            93.9518   95.107493\n",
       "2019-11-01           102.1902  100.392981\n",
       "2019-12-01           113.0698  113.423097\n",
       "2020-01-01           116.0371  121.894145\n",
       "2020-02-01           109.6578  108.714076\n",
       "2020-03-01            97.8951  103.906732\n",
       "2020-04-01            86.3541   93.279227\n",
       "2020-05-01            86.9068   94.514262\n",
       "2020-06-01            99.5332  104.573892\n",
       "2020-07-01           113.3927  113.812391"
      ]
     },
     "execution_count": 189,
     "metadata": {},
     "output_type": "execute_result"
    }
   ],
   "source": [
    "df_final"
   ]
  },
  {
   "cell_type": "code",
   "execution_count": 190,
   "metadata": {},
   "outputs": [
    {
     "data": {
      "text/html": [
       "<div>\n",
       "<style scoped>\n",
       "    .dataframe tbody tr th:only-of-type {\n",
       "        vertical-align: middle;\n",
       "    }\n",
       "\n",
       "    .dataframe tbody tr th {\n",
       "        vertical-align: top;\n",
       "    }\n",
       "\n",
       "    .dataframe thead th {\n",
       "        text-align: right;\n",
       "    }\n",
       "</style>\n",
       "<table border=\"1\" class=\"dataframe\">\n",
       "  <thead>\n",
       "    <tr style=\"text-align: right;\">\n",
       "      <th></th>\n",
       "      <th>Energy Production</th>\n",
       "      <th>Prediction</th>\n",
       "    </tr>\n",
       "    <tr>\n",
       "      <th>Date</th>\n",
       "      <th></th>\n",
       "      <th></th>\n",
       "    </tr>\n",
       "  </thead>\n",
       "  <tbody>\n",
       "    <tr>\n",
       "      <th>2019-01-01</th>\n",
       "      <td>123.7687</td>\n",
       "      <td>121.345284</td>\n",
       "    </tr>\n",
       "    <tr>\n",
       "      <th>2019-02-01</th>\n",
       "      <td>112.9837</td>\n",
       "      <td>108.087179</td>\n",
       "    </tr>\n",
       "    <tr>\n",
       "      <th>2019-03-01</th>\n",
       "      <td>106.6593</td>\n",
       "      <td>103.553683</td>\n",
       "    </tr>\n",
       "    <tr>\n",
       "      <th>2019-04-01</th>\n",
       "      <td>88.6631</td>\n",
       "      <td>92.590902</td>\n",
       "    </tr>\n",
       "    <tr>\n",
       "      <th>2019-05-01</th>\n",
       "      <td>91.9852</td>\n",
       "      <td>93.753859</td>\n",
       "    </tr>\n",
       "    <tr>\n",
       "      <th>2019-06-01</th>\n",
       "      <td>98.4548</td>\n",
       "      <td>103.985474</td>\n",
       "    </tr>\n",
       "    <tr>\n",
       "      <th>2019-07-01</th>\n",
       "      <td>113.0791</td>\n",
       "      <td>113.445775</td>\n",
       "    </tr>\n",
       "    <tr>\n",
       "      <th>2019-08-01</th>\n",
       "      <td>111.2697</td>\n",
       "      <td>112.690594</td>\n",
       "    </tr>\n",
       "    <tr>\n",
       "      <th>2019-09-01</th>\n",
       "      <td>102.0185</td>\n",
       "      <td>102.031142</td>\n",
       "    </tr>\n",
       "    <tr>\n",
       "      <th>2019-10-01</th>\n",
       "      <td>93.9518</td>\n",
       "      <td>95.107493</td>\n",
       "    </tr>\n",
       "    <tr>\n",
       "      <th>2019-11-01</th>\n",
       "      <td>102.1902</td>\n",
       "      <td>100.392981</td>\n",
       "    </tr>\n",
       "    <tr>\n",
       "      <th>2019-12-01</th>\n",
       "      <td>113.0698</td>\n",
       "      <td>113.423097</td>\n",
       "    </tr>\n",
       "    <tr>\n",
       "      <th>2020-01-01</th>\n",
       "      <td>116.0371</td>\n",
       "      <td>121.894145</td>\n",
       "    </tr>\n",
       "    <tr>\n",
       "      <th>2020-02-01</th>\n",
       "      <td>109.6578</td>\n",
       "      <td>108.714076</td>\n",
       "    </tr>\n",
       "    <tr>\n",
       "      <th>2020-03-01</th>\n",
       "      <td>97.8951</td>\n",
       "      <td>103.906732</td>\n",
       "    </tr>\n",
       "    <tr>\n",
       "      <th>2020-04-01</th>\n",
       "      <td>86.3541</td>\n",
       "      <td>93.279227</td>\n",
       "    </tr>\n",
       "    <tr>\n",
       "      <th>2020-05-01</th>\n",
       "      <td>86.9068</td>\n",
       "      <td>94.514262</td>\n",
       "    </tr>\n",
       "    <tr>\n",
       "      <th>2020-06-01</th>\n",
       "      <td>99.5332</td>\n",
       "      <td>104.573892</td>\n",
       "    </tr>\n",
       "    <tr>\n",
       "      <th>2020-07-01</th>\n",
       "      <td>113.3927</td>\n",
       "      <td>113.812391</td>\n",
       "    </tr>\n",
       "  </tbody>\n",
       "</table>\n",
       "</div>"
      ],
      "text/plain": [
       "            Energy Production  Prediction\n",
       "Date                                     \n",
       "2019-01-01           123.7687  121.345284\n",
       "2019-02-01           112.9837  108.087179\n",
       "2019-03-01           106.6593  103.553683\n",
       "2019-04-01            88.6631   92.590902\n",
       "2019-05-01            91.9852   93.753859\n",
       "2019-06-01            98.4548  103.985474\n",
       "2019-07-01           113.0791  113.445775\n",
       "2019-08-01           111.2697  112.690594\n",
       "2019-09-01           102.0185  102.031142\n",
       "2019-10-01            93.9518   95.107493\n",
       "2019-11-01           102.1902  100.392981\n",
       "2019-12-01           113.0698  113.423097\n",
       "2020-01-01           116.0371  121.894145\n",
       "2020-02-01           109.6578  108.714076\n",
       "2020-03-01            97.8951  103.906732\n",
       "2020-04-01            86.3541   93.279227\n",
       "2020-05-01            86.9068   94.514262\n",
       "2020-06-01            99.5332  104.573892\n",
       "2020-07-01           113.3927  113.812391"
      ]
     },
     "execution_count": 190,
     "metadata": {},
     "output_type": "execute_result"
    }
   ],
   "source": [
    "pd.concat([test,df_forecast],axis=1)"
   ]
  },
  {
   "cell_type": "code",
   "execution_count": 191,
   "metadata": {},
   "outputs": [
    {
     "name": "stdout",
     "output_type": "stream",
     "text": [
      "RMSE :3.962\n",
      "MAPE  :3.176\n"
     ]
    }
   ],
   "source": [
    "print(\"RMSE :%.3f\" % np.sqrt(mse(df_final['Energy Production'], df_final['Prediction'])))\n",
    "print(\"MAPE  :%.3f\" % mean_absolute_percentage_error(df_final['Energy Production'], df_final['Prediction']))"
   ]
  },
  {
   "cell_type": "markdown",
   "metadata": {},
   "source": [
    "## Lets predict in future from 2020-08-01 to 2020-12-01."
   ]
  },
  {
   "cell_type": "code",
   "execution_count": 211,
   "metadata": {},
   "outputs": [
    {
     "data": {
      "text/plain": [
       "DatetimeIndex(['2019-01-01', '2019-02-01', '2019-03-01', '2019-04-01',\n",
       "               '2019-05-01', '2019-06-01', '2019-07-01', '2019-08-01',\n",
       "               '2019-09-01', '2019-10-01', '2019-11-01', '2019-12-01',\n",
       "               '2020-01-01', '2020-02-01', '2020-03-01', '2020-04-01',\n",
       "               '2020-05-01', '2020-06-01', '2020-07-01', '2020-08-01',\n",
       "               '2020-09-01', '2020-10-01', '2020-11-01', '2020-12-01'],\n",
       "              dtype='datetime64[ns]', freq='MS')"
      ]
     },
     "execution_count": 211,
     "metadata": {},
     "output_type": "execute_result"
    }
   ],
   "source": [
    "forecast_range = pd.date_range(start='2019-01-01',periods=24,freq='MS')\n",
    "forecast_range"
   ]
  },
  {
   "cell_type": "code",
   "execution_count": 202,
   "metadata": {},
   "outputs": [],
   "source": [
    "new_forecast = model.predict(n_periods=24,return_conf_int=True)"
   ]
  },
  {
   "cell_type": "code",
   "execution_count": 203,
   "metadata": {},
   "outputs": [],
   "source": [
    "#Confidene interval\n",
    "lower = pd.Series(new_forecast[1][:,0],index=forecast_range)\n",
    "upper = pd.Series(new_forecast[1][:,1],index=forecast_range)"
   ]
  },
  {
   "cell_type": "code",
   "execution_count": 204,
   "metadata": {},
   "outputs": [],
   "source": [
    "forcast_df = pd.DataFrame(new_forecast[0], index=forecast_range, columns=['Prediction'])"
   ]
  },
  {
   "cell_type": "code",
   "execution_count": 207,
   "metadata": {},
   "outputs": [
    {
     "data": {
      "text/html": [
       "<div>\n",
       "<style scoped>\n",
       "    .dataframe tbody tr th:only-of-type {\n",
       "        vertical-align: middle;\n",
       "    }\n",
       "\n",
       "    .dataframe tbody tr th {\n",
       "        vertical-align: top;\n",
       "    }\n",
       "\n",
       "    .dataframe thead th {\n",
       "        text-align: right;\n",
       "    }\n",
       "</style>\n",
       "<table border=\"1\" class=\"dataframe\">\n",
       "  <thead>\n",
       "    <tr style=\"text-align: right;\">\n",
       "      <th></th>\n",
       "      <th>Prediction</th>\n",
       "      <th>lower</th>\n",
       "      <th>upper</th>\n",
       "    </tr>\n",
       "  </thead>\n",
       "  <tbody>\n",
       "    <tr>\n",
       "      <th>2019-01-01</th>\n",
       "      <td>121.345284</td>\n",
       "      <td>115.699727</td>\n",
       "      <td>126.990840</td>\n",
       "    </tr>\n",
       "    <tr>\n",
       "      <th>2019-02-01</th>\n",
       "      <td>108.087179</td>\n",
       "      <td>101.457335</td>\n",
       "      <td>114.717024</td>\n",
       "    </tr>\n",
       "    <tr>\n",
       "      <th>2019-03-01</th>\n",
       "      <td>103.553683</td>\n",
       "      <td>96.801042</td>\n",
       "      <td>110.306324</td>\n",
       "    </tr>\n",
       "    <tr>\n",
       "      <th>2019-04-01</th>\n",
       "      <td>92.590902</td>\n",
       "      <td>85.775839</td>\n",
       "      <td>99.405965</td>\n",
       "    </tr>\n",
       "    <tr>\n",
       "      <th>2019-05-01</th>\n",
       "      <td>93.753859</td>\n",
       "      <td>86.882965</td>\n",
       "      <td>100.624753</td>\n",
       "    </tr>\n",
       "    <tr>\n",
       "      <th>2019-06-01</th>\n",
       "      <td>103.985474</td>\n",
       "      <td>97.079031</td>\n",
       "      <td>110.891916</td>\n",
       "    </tr>\n",
       "    <tr>\n",
       "      <th>2019-07-01</th>\n",
       "      <td>113.445775</td>\n",
       "      <td>106.515604</td>\n",
       "      <td>120.375945</td>\n",
       "    </tr>\n",
       "    <tr>\n",
       "      <th>2019-08-01</th>\n",
       "      <td>112.690594</td>\n",
       "      <td>105.740574</td>\n",
       "      <td>119.640615</td>\n",
       "    </tr>\n",
       "    <tr>\n",
       "      <th>2019-09-01</th>\n",
       "      <td>102.031142</td>\n",
       "      <td>95.063018</td>\n",
       "      <td>108.999265</td>\n",
       "    </tr>\n",
       "    <tr>\n",
       "      <th>2019-10-01</th>\n",
       "      <td>95.107493</td>\n",
       "      <td>88.122527</td>\n",
       "      <td>102.092460</td>\n",
       "    </tr>\n",
       "    <tr>\n",
       "      <th>2019-11-01</th>\n",
       "      <td>100.392981</td>\n",
       "      <td>93.391937</td>\n",
       "      <td>107.394024</td>\n",
       "    </tr>\n",
       "    <tr>\n",
       "      <th>2019-12-01</th>\n",
       "      <td>113.423097</td>\n",
       "      <td>106.406375</td>\n",
       "      <td>120.439820</td>\n",
       "    </tr>\n",
       "    <tr>\n",
       "      <th>2020-01-01</th>\n",
       "      <td>121.894145</td>\n",
       "      <td>114.411711</td>\n",
       "      <td>129.376580</td>\n",
       "    </tr>\n",
       "    <tr>\n",
       "      <th>2020-02-01</th>\n",
       "      <td>108.714076</td>\n",
       "      <td>101.023493</td>\n",
       "      <td>116.404660</td>\n",
       "    </tr>\n",
       "    <tr>\n",
       "      <th>2020-03-01</th>\n",
       "      <td>103.906732</td>\n",
       "      <td>96.158032</td>\n",
       "      <td>111.655432</td>\n",
       "    </tr>\n",
       "    <tr>\n",
       "      <th>2020-04-01</th>\n",
       "      <td>93.279227</td>\n",
       "      <td>85.488302</td>\n",
       "      <td>101.070151</td>\n",
       "    </tr>\n",
       "    <tr>\n",
       "      <th>2020-05-01</th>\n",
       "      <td>94.514262</td>\n",
       "      <td>86.683156</td>\n",
       "      <td>102.345367</td>\n",
       "    </tr>\n",
       "    <tr>\n",
       "      <th>2020-06-01</th>\n",
       "      <td>104.573892</td>\n",
       "      <td>96.709184</td>\n",
       "      <td>112.438600</td>\n",
       "    </tr>\n",
       "    <tr>\n",
       "      <th>2020-07-01</th>\n",
       "      <td>113.812391</td>\n",
       "      <td>105.918494</td>\n",
       "      <td>121.706287</td>\n",
       "    </tr>\n",
       "    <tr>\n",
       "      <th>2020-08-01</th>\n",
       "      <td>113.049189</td>\n",
       "      <td>105.127752</td>\n",
       "      <td>120.970627</td>\n",
       "    </tr>\n",
       "    <tr>\n",
       "      <th>2020-09-01</th>\n",
       "      <td>102.646270</td>\n",
       "      <td>94.698104</td>\n",
       "      <td>110.594436</td>\n",
       "    </tr>\n",
       "    <tr>\n",
       "      <th>2020-10-01</th>\n",
       "      <td>95.734083</td>\n",
       "      <td>87.759807</td>\n",
       "      <td>103.708358</td>\n",
       "    </tr>\n",
       "    <tr>\n",
       "      <th>2020-11-01</th>\n",
       "      <td>100.682089</td>\n",
       "      <td>92.682112</td>\n",
       "      <td>108.682067</td>\n",
       "    </tr>\n",
       "    <tr>\n",
       "      <th>2020-12-01</th>\n",
       "      <td>113.709198</td>\n",
       "      <td>105.683761</td>\n",
       "      <td>121.734634</td>\n",
       "    </tr>\n",
       "  </tbody>\n",
       "</table>\n",
       "</div>"
      ],
      "text/plain": [
       "            Prediction       lower       upper\n",
       "2019-01-01  121.345284  115.699727  126.990840\n",
       "2019-02-01  108.087179  101.457335  114.717024\n",
       "2019-03-01  103.553683   96.801042  110.306324\n",
       "2019-04-01   92.590902   85.775839   99.405965\n",
       "2019-05-01   93.753859   86.882965  100.624753\n",
       "2019-06-01  103.985474   97.079031  110.891916\n",
       "2019-07-01  113.445775  106.515604  120.375945\n",
       "2019-08-01  112.690594  105.740574  119.640615\n",
       "2019-09-01  102.031142   95.063018  108.999265\n",
       "2019-10-01   95.107493   88.122527  102.092460\n",
       "2019-11-01  100.392981   93.391937  107.394024\n",
       "2019-12-01  113.423097  106.406375  120.439820\n",
       "2020-01-01  121.894145  114.411711  129.376580\n",
       "2020-02-01  108.714076  101.023493  116.404660\n",
       "2020-03-01  103.906732   96.158032  111.655432\n",
       "2020-04-01   93.279227   85.488302  101.070151\n",
       "2020-05-01   94.514262   86.683156  102.345367\n",
       "2020-06-01  104.573892   96.709184  112.438600\n",
       "2020-07-01  113.812391  105.918494  121.706287\n",
       "2020-08-01  113.049189  105.127752  120.970627\n",
       "2020-09-01  102.646270   94.698104  110.594436\n",
       "2020-10-01   95.734083   87.759807  103.708358\n",
       "2020-11-01  100.682089   92.682112  108.682067\n",
       "2020-12-01  113.709198  105.683761  121.734634"
      ]
     },
     "execution_count": 207,
     "metadata": {},
     "output_type": "execute_result"
    }
   ],
   "source": [
    "forcast_df = pd.concat([forcast_df, lower, upper], axis=1)\n",
    "forcast_df.columns = ['Prediction','lower','upper']\n",
    "forcast_df"
   ]
  },
  {
   "cell_type": "code",
   "execution_count": 209,
   "metadata": {},
   "outputs": [
    {
     "data": {
      "image/png": "[encoded data removed]",
      "text/plain": [
       "<Figure size 576x432 with 1 Axes>"
      ]
     },
     "metadata": {
      "needs_background": "light"
     },
     "output_type": "display_data"
    }
   ],
   "source": [
    "plt.plot(df.loc['2000':'2018'])\n",
    "plt.plot(forcast_df,color='blue')\n",
    "plt.fill_between(forecast_range,lower,upper,alpha = 0.5)\n",
    "plt.show()"
   ]
  },
  {
   "cell_type": "markdown",
   "metadata": {},
   "source": [
    "## Now that we’ve evaluated our data on the test set and our satisfied with the performance, the next step would be to refit our model to our entire data set and then forecast into the real future."
   ]
  },
  {
   "cell_type": "code",
   "execution_count": 212,
   "metadata": {},
   "outputs": [
    {
     "data": {
      "text/plain": [
       "ARIMA(maxiter=50, method='lbfgs', order=(3, 1, 1), out_of_sample_size=0,\n",
       "      scoring='mse', scoring_args={}, seasonal_order=(2, 0, 2, 12),\n",
       "      start_params=None, suppress_warnings=True, trend=None,\n",
       "      with_intercept=False)"
      ]
     },
     "execution_count": 212,
     "metadata": {},
     "output_type": "execute_result"
    }
   ],
   "source": [
    "model.fit(df)"
   ]
  },
  {
   "cell_type": "code",
   "execution_count": 213,
   "metadata": {},
   "outputs": [
    {
     "name": "stdout",
     "output_type": "stream",
     "text": [
      "<class 'pandas.core.frame.DataFrame'>\n",
      "DatetimeIndex: 979 entries, 1939-01-01 to 2020-07-01\n",
      "Data columns (total 1 columns):\n",
      "Energy Production    979 non-null float64\n",
      "dtypes: float64(1)\n",
      "memory usage: 55.3 KB\n"
     ]
    }
   ],
   "source": [
    "df.info()"
   ]
  },
  {
   "cell_type": "code",
   "execution_count": 215,
   "metadata": {},
   "outputs": [
    {
     "data": {
      "text/plain": [
       "DatetimeIndex(['2020-08-01', '2020-09-01', '2020-10-01', '2020-11-01',\n",
       "               '2020-12-01', '2021-01-01', '2021-02-01', '2021-03-01',\n",
       "               '2021-04-01', '2021-05-01', '2021-06-01', '2021-07-01',\n",
       "               '2021-08-01', '2021-09-01', '2021-10-01', '2021-11-01',\n",
       "               '2021-12-01', '2022-01-01', '2022-02-01', '2022-03-01',\n",
       "               '2022-04-01', '2022-05-01', '2022-06-01', '2022-07-01'],\n",
       "              dtype='datetime64[ns]', freq='MS')"
      ]
     },
     "execution_count": 215,
     "metadata": {},
     "output_type": "execute_result"
    }
   ],
   "source": [
    "forecast_range = pd.date_range(start='2020-08-01',periods=24,freq='MS' )\n",
    "forecast_range"
   ]
  },
  {
   "cell_type": "code",
   "execution_count": 216,
   "metadata": {},
   "outputs": [],
   "source": [
    "forecast_ahead = model.predict(n_periods=24,return_conf_int=True)"
   ]
  },
  {
   "cell_type": "code",
   "execution_count": 217,
   "metadata": {},
   "outputs": [],
   "source": [
    "#Confidene interval\n",
    "lower = pd.Series(forecast_ahead[1][:,0],index=forecast_range)\n",
    "upper = pd.Series(forecast_ahead[1][:,1],index=forecast_range)"
   ]
  },
  {
   "cell_type": "code",
   "execution_count": 218,
   "metadata": {},
   "outputs": [
    {
     "data": {
      "image/png": "[encoded data removed]",
      "text/plain": [
       "<Figure size 576x432 with 1 Axes>"
      ]
     },
     "metadata": {
      "needs_background": "light"
     },
     "output_type": "display_data"
    }
   ],
   "source": [
    "forcast_df = pd.DataFrame(forecast_ahead[0], index=forecast_range, columns=['Prediction'])\n",
    "forcast_df = pd.concat([forcast_df, lower, upper], axis=1)\n",
    "forcast_df.columns = ['Prediction','lower','upper']\n",
    "plt.plot(df['Energy Production'])\n",
    "plt.plot(forcast_df,color='blue')\n",
    "plt.fill_between(forecast_range,lower,upper,alpha = 0.5)\n",
    "plt.show()"
   ]
  }
 ],
 "metadata": {
  "kernelspec": {
   "display_name": "Python 3",
   "language": "python",
   "name": "python3"
  },
  "language_info": {
   "codemirror_mode": {
    "name": "ipython",
    "version": 3
   },
   "file_extension": ".py",
   "mimetype": "text/x-python",
   "name": "python",
   "nbconvert_exporter": "python",
   "pygments_lexer": "ipython3",
   "version": "3.7.3"
  }
 },
 "nbformat": 4,
 "nbformat_minor": 2
}
